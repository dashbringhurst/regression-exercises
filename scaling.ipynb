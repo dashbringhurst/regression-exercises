{
 "cells": [
  {
   "cell_type": "markdown",
   "id": "7dc57e3a",
   "metadata": {},
   "source": [
    "# Scaling Exercises"
   ]
  },
  {
   "cell_type": "code",
   "execution_count": 1,
   "id": "258e410b",
   "metadata": {},
   "outputs": [],
   "source": [
    "import pandas as pd\n",
    "import numpy as np\n",
    "import wrangle\n",
    "import matplotlib.pyplot as plt\n",
    "import sklearn.preprocessing\n",
    "from sklearn.model_selection import train_test_split"
   ]
  },
  {
   "cell_type": "markdown",
   "id": "6dd60d0d",
   "metadata": {},
   "source": [
    "Do your work for these exercises in a jupyter notebook named scaling. Use the zillow dataset you acquired and prepped in previous lesson. Once you are finished, you may wish to repeat the exercises on another dataset for additional practice."
   ]
  },
  {
   "cell_type": "code",
   "execution_count": 2,
   "id": "ee14c10f",
   "metadata": {},
   "outputs": [],
   "source": [
    "# get the zillow dataset using the function in wrangle and assign it to a dataframe\n",
    "df = wrangle.wrangle_zillow()"
   ]
  },
  {
   "cell_type": "code",
   "execution_count": 3,
   "id": "ece8999f",
   "metadata": {},
   "outputs": [
    {
     "data": {
      "text/html": [
       "<div>\n",
       "<style scoped>\n",
       "    .dataframe tbody tr th:only-of-type {\n",
       "        vertical-align: middle;\n",
       "    }\n",
       "\n",
       "    .dataframe tbody tr th {\n",
       "        vertical-align: top;\n",
       "    }\n",
       "\n",
       "    .dataframe thead th {\n",
       "        text-align: right;\n",
       "    }\n",
       "</style>\n",
       "<table border=\"1\" class=\"dataframe\">\n",
       "  <thead>\n",
       "    <tr style=\"text-align: right;\">\n",
       "      <th></th>\n",
       "      <th>bedrooms</th>\n",
       "      <th>bathrooms</th>\n",
       "      <th>sqft</th>\n",
       "      <th>tax_value</th>\n",
       "      <th>year</th>\n",
       "      <th>tax_amount</th>\n",
       "      <th>fips</th>\n",
       "    </tr>\n",
       "  </thead>\n",
       "  <tbody>\n",
       "    <tr>\n",
       "      <th>4</th>\n",
       "      <td>4</td>\n",
       "      <td>2.0</td>\n",
       "      <td>3633.0</td>\n",
       "      <td>296425.0</td>\n",
       "      <td>2005</td>\n",
       "      <td>6941.39</td>\n",
       "      <td>6037</td>\n",
       "    </tr>\n",
       "    <tr>\n",
       "      <th>18</th>\n",
       "      <td>3</td>\n",
       "      <td>1.0</td>\n",
       "      <td>1244.0</td>\n",
       "      <td>169471.0</td>\n",
       "      <td>1950</td>\n",
       "      <td>2532.88</td>\n",
       "      <td>6037</td>\n",
       "    </tr>\n",
       "    <tr>\n",
       "      <th>19</th>\n",
       "      <td>3</td>\n",
       "      <td>2.0</td>\n",
       "      <td>1300.0</td>\n",
       "      <td>233266.0</td>\n",
       "      <td>1950</td>\n",
       "      <td>3110.99</td>\n",
       "      <td>6037</td>\n",
       "    </tr>\n",
       "    <tr>\n",
       "      <th>20</th>\n",
       "      <td>3</td>\n",
       "      <td>2.0</td>\n",
       "      <td>1222.0</td>\n",
       "      <td>290492.0</td>\n",
       "      <td>1951</td>\n",
       "      <td>3870.25</td>\n",
       "      <td>6037</td>\n",
       "    </tr>\n",
       "    <tr>\n",
       "      <th>23</th>\n",
       "      <td>3</td>\n",
       "      <td>2.5</td>\n",
       "      <td>1821.0</td>\n",
       "      <td>537949.0</td>\n",
       "      <td>2013</td>\n",
       "      <td>6173.72</td>\n",
       "      <td>6059</td>\n",
       "    </tr>\n",
       "  </tbody>\n",
       "</table>\n",
       "</div>"
      ],
      "text/plain": [
       "    bedrooms  bathrooms    sqft  tax_value  year  tax_amount  fips\n",
       "4          4        2.0  3633.0   296425.0  2005     6941.39  6037\n",
       "18         3        1.0  1244.0   169471.0  1950     2532.88  6037\n",
       "19         3        2.0  1300.0   233266.0  1950     3110.99  6037\n",
       "20         3        2.0  1222.0   290492.0  1951     3870.25  6037\n",
       "23         3        2.5  1821.0   537949.0  2013     6173.72  6059"
      ]
     },
     "execution_count": 3,
     "metadata": {},
     "output_type": "execute_result"
    }
   ],
   "source": [
    "# make sure all required columns queried correctly\n",
    "df.head()"
   ]
  },
  {
   "cell_type": "markdown",
   "id": "dcddd9cf",
   "metadata": {},
   "source": [
    "Apply the scalers we talked about in this lesson to your data and visualize the results for the unscaled and scaled distribution."
   ]
  },
  {
   "cell_type": "code",
   "execution_count": 5,
   "id": "2fd60243",
   "metadata": {},
   "outputs": [],
   "source": [
    "# split the data\n",
    "train, validate, test = wrangle.split_data(df)"
   ]
  },
  {
   "cell_type": "code",
   "execution_count": 6,
   "id": "53f7f8f2",
   "metadata": {},
   "outputs": [],
   "source": [
    "# assign dependent and independent variables for the train, validate, and test datasets\n",
    "\n",
    "X_train = train[['bedrooms', 'bathrooms', 'sqft', 'year', 'tax_amount']]\n",
    "y_train = train['tax_value']\n",
    "X_validate = validate[['bedrooms', 'bathrooms', 'sqft', 'year', 'tax_amount']]\n",
    "y_validate = validate['tax_value']\n",
    "X_test = test[['bedrooms', 'bathrooms', 'sqft', 'year', 'tax_amount']]\n",
    "y_test = test['tax_value']"
   ]
  },
  {
   "cell_type": "code",
   "execution_count": 7,
   "id": "10403fa4",
   "metadata": {},
   "outputs": [
    {
     "data": {
      "text/plain": [
       "Text(0.5, 1.0, 'Scaled')"
      ]
     },
     "execution_count": 7,
     "metadata": {},
     "output_type": "execute_result"
    },
    {
     "data": {
      "image/png": "[encoded data removed]",
      "text/plain": [
       "<Figure size 936x432 with 2 Axes>"
      ]
     },
     "metadata": {
      "needs_background": "light"
     },
     "output_type": "display_data"
    }
   ],
   "source": [
    "# assign the MinMaxScaler to a variable\n",
    "scaler = sklearn.preprocessing.MinMaxScaler()\n",
    "# fit the scaler to the train dataset\n",
    "scaler.fit(X_train)\n",
    "\n",
    "# transform the X_train data using the scaler and assign to a variable\n",
    "X_train_scaled = scaler.transform(X_train)\n",
    "# transform the X_validate data using the scaler and assign to a variable\n",
    "X_validate_scaled = scaler.transform(X_validate)\n",
    "# transform the X_test data using the scaler and assign to a variable\n",
    "X_test_scaled = scaler.transform(X_test)\n",
    "\n",
    "# plot the original X_train data\n",
    "plt.figure(figsize=(13, 6))\n",
    "plt.subplot(121)\n",
    "plt.hist(X_train)\n",
    "plt.title('Original')\n",
    "# plot the scaled X_train data\n",
    "plt.subplot(122)\n",
    "plt.hist(X_train_scaled)\n",
    "plt.title('Scaled')"
   ]
  },
  {
   "cell_type": "code",
   "execution_count": 8,
   "id": "0923cf41",
   "metadata": {},
   "outputs": [
    {
     "data": {
      "text/plain": [
       "Text(0.5, 1.0, 'Scaled')"
      ]
     },
     "execution_count": 8,
     "metadata": {},
     "output_type": "execute_result"
    },
    {
     "data": {
      "image/png": "[encoded data removed]",
      "text/plain": [
       "<Figure size 936x432 with 2 Axes>"
      ]
     },
     "metadata": {
      "needs_background": "light"
     },
     "output_type": "display_data"
    }
   ],
   "source": [
    "# assign the RobustScaler to a variable\n",
    "scaler2 = sklearn.preprocessing.RobustScaler()\n",
    "# Note that we only call .fit with the training data, but we use .transform to apply the scaling to all the data splits.\n",
    "scaler2.fit(X_train)\n",
    "\n",
    "# transform the X_train data and assign to a variable\n",
    "X_train_robust = scaler.transform(X_train)\n",
    "# transform the X_validate data and assign to a variable\n",
    "X_validate_robust = scaler.transform(X_validate)\n",
    "# transform the X_test data and assign to a variable\n",
    "X_test_robust = scaler.transform(X_test)\n",
    "\n",
    "# create a histogram of the original X_train data\n",
    "plt.figure(figsize=(13, 6))\n",
    "plt.subplot(121)\n",
    "plt.hist(X_train)\n",
    "plt.title('Original')\n",
    "# create a histogram of the scaled X_train data\n",
    "plt.subplot(122)\n",
    "plt.hist(X_train_robust)\n",
    "plt.title('Scaled')"
   ]
  },
  {
   "cell_type": "markdown",
   "id": "3ddc66b8",
   "metadata": {},
   "source": [
    "Apply the .inverse_transform method to your scaled data. Is the resulting dataset the exact same as the original data?"
   ]
  },
  {
   "cell_type": "code",
   "execution_count": 9,
   "id": "3aa12c4e",
   "metadata": {},
   "outputs": [
    {
     "data": {
      "text/plain": [
       "Text(0.5, 1.0, 'Scaled')"
      ]
     },
     "execution_count": 9,
     "metadata": {},
     "output_type": "execute_result"
    },
    {
     "data": {
      "image/png": "[encoded data removed]",
      "text/plain": [
       "<Figure size 936x432 with 2 Axes>"
      ]
     },
     "metadata": {
      "needs_background": "light"
     },
     "output_type": "display_data"
    }
   ],
   "source": [
    "# use the inverse_transform method on the previously scaled train dataset and assign it to a new variable\n",
    "train_scaled_inverse = scaler.inverse_transform(X_train_scaled)\n",
    "# create a histplot of the original X_train data\n",
    "plt.figure(figsize=(13, 6))\n",
    "plt.subplot(121)\n",
    "plt.hist(X_train)\n",
    "plt.title('Original')\n",
    "# create a histogram of the inverse of the scaled data\n",
    "plt.subplot(122)\n",
    "plt.hist(train_scaled_inverse)\n",
    "plt.title('Scaled')\n",
    "# the data looks identical"
   ]
  },
  {
   "cell_type": "markdown",
   "id": "3866f80d",
   "metadata": {},
   "source": [
    "Read the documentation for sklearn's QuantileTransformer. Use normal for the output_distribution and apply this scaler to your data. Visualize the result of your data scaling."
   ]
  },
  {
   "cell_type": "code",
   "execution_count": 10,
   "id": "c6991cd9",
   "metadata": {},
   "outputs": [
    {
     "data": {
      "text/plain": [
       "(array([[6.58000e+03, 0.00000e+00, 0.00000e+00, 1.73363e+05, 4.91457e+05,\n",
       "         2.75354e+05, 4.50220e+04, 6.47900e+03, 0.00000e+00, 1.03700e+03],\n",
       "        [2.21942e+05, 0.00000e+00, 0.00000e+00, 0.00000e+00, 5.22450e+05,\n",
       "         6.07270e+04, 1.74056e+05, 2.00620e+04, 0.00000e+00, 5.50000e+01],\n",
       "        [2.40000e+01, 9.56000e+02, 1.81190e+04, 1.30461e+05, 3.50769e+05,\n",
       "         3.50918e+05, 1.29416e+05, 1.82080e+04, 4.19000e+02, 2.00000e+00],\n",
       "        [3.69000e+02, 0.00000e+00, 1.91580e+04, 1.29055e+05, 3.55433e+05,\n",
       "         3.41930e+05, 1.34024e+05, 1.83880e+04, 9.06000e+02, 2.90000e+01],\n",
       "        [5.80000e+01, 6.86000e+02, 1.73380e+04, 1.29783e+05, 3.52536e+05,\n",
       "         3.50060e+05, 1.30242e+05, 1.77760e+04, 7.98000e+02, 1.50000e+01]]),\n",
       " array([-5.19933758e+00, -4.15947007e+00, -3.11960255e+00, -2.07973503e+00,\n",
       "        -1.03986752e+00,  4.89217555e-11,  1.03986752e+00,  2.07973503e+00,\n",
       "         3.11960255e+00,  4.15947007e+00,  5.19933758e+00]),\n",
       " <a list of 5 BarContainer objects>)"
      ]
     },
     "execution_count": 10,
     "metadata": {},
     "output_type": "execute_result"
    },
    {
     "data": {
      "image/png": "[encoded data removed]",
      "text/plain": [
       "<Figure size 432x288 with 1 Axes>"
      ]
     },
     "metadata": {
      "needs_background": "light"
     },
     "output_type": "display_data"
    }
   ],
   "source": [
    "# assign the quantile transformer method with normal output distribution to a variable\n",
    "train_scaled_quantile = sklearn.preprocessing.QuantileTransformer(output_distribution='normal')\n",
    "# fit and transform the X_train data using the quantile transformer and assign to a new variable\n",
    "quantile = train_scaled_quantile.fit_transform(X_train)\n",
    "# create a histogram of the scaled X_train data\n",
    "plt.hist(quantile)"
   ]
  },
  {
   "cell_type": "markdown",
   "id": "28f15cc1",
   "metadata": {},
   "source": [
    "Use the QuantileTransformer, but omit the output_distribution argument. Visualize your results. What do you notice?"
   ]
  },
  {
   "cell_type": "code",
   "execution_count": 11,
   "id": "ff5fbfd0",
   "metadata": {},
   "outputs": [
    {
     "data": {
      "text/plain": [
       "(array([[179943.,      0.,      0.,      0., 491457.,      0.,      0.,\n",
       "              0., 275354.,  52538.],\n",
       "        [221942.,      0.,  18218.,      0., 504232.,      0.,      0.,\n",
       "          60727., 169300.,  24873.],\n",
       "        [ 99925., 100745., 100380.,  99644., 100519.,  99095., 100232.,\n",
       "          98384., 100425.,  99943.],\n",
       "        [ 97684.,  96448., 106045.,  87294., 116544., 100447.,  90064.,\n",
       "         102860., 103178.,  98728.],\n",
       "        [100413., 100224.,  99655., 101416.,  98816.,  99630.,  98033.,\n",
       "          99590., 100546., 100969.]]),\n",
       " array([0. , 0.1, 0.2, 0.3, 0.4, 0.5, 0.6, 0.7, 0.8, 0.9, 1. ]),\n",
       " <a list of 5 BarContainer objects>)"
      ]
     },
     "execution_count": 11,
     "metadata": {},
     "output_type": "execute_result"
    },
    {
     "data": {
      "image/png": "[encoded data removed]",
      "text/plain": [
       "<Figure size 432x288 with 1 Axes>"
      ]
     },
     "metadata": {
      "needs_background": "light"
     },
     "output_type": "display_data"
    }
   ],
   "source": [
    "# # assign the quantile transformer method with uniform output distribution to a variable\n",
    "train_scaled_quantile2 = sklearn.preprocessing.QuantileTransformer()\n",
    "# fit and transform the X_train data using the quantile transformer and assign to a new variable\n",
    "quantile2 = train_scaled_quantile2.fit_transform(X_train)\n",
    "# create a histogram of the scaled X_train data\n",
    "plt.hist(quantile2)"
   ]
  },
  {
   "cell_type": "markdown",
   "id": "3ae5b2e0",
   "metadata": {},
   "source": [
    "Based on the work you've done, choose a scaling method for your dataset. Write a function within your prepare.py that accepts as input the train, validate, and test data splits, and returns the scaled versions of each. Be sure to only learn the parameters for scaling from your training data!"
   ]
  },
  {
   "cell_type": "code",
   "execution_count": 17,
   "id": "7b907eaa",
   "metadata": {},
   "outputs": [],
   "source": [
    "# create a function to scale X_train, X_validate, and X_test data using MinMaxScaler()\n",
    "def minmax_scaler():\n",
    "    '''This function applies the .MinMaxScaler method from sklearn to previously assigned\n",
    "    X_train, X_validate, and X_test variables and returns the scaled versions of each variable.'''\n",
    "    # make the scaler\n",
    "    scaler = sklearn.preprocessing.MinMaxScaler()\n",
    "    # fit and transform the X_train data\n",
    "    X_train_minmax = pd.DataFrame(scaler.fit_transform(X_train))\n",
    "    # transform the X_validate data\n",
    "    X_validate_minmax = pd.DataFrame(scaler.transform(X_validate))\n",
    "    # transform the X_test data\n",
    "    X_test_minmax = pd.DataFrame(scaler.transform(X_test))\n",
    "    # return the scaled data for each renamed variable\n",
    "    return X_train_minmax, X_validate_minmax, X_test_minmax"
   ]
  },
  {
   "cell_type": "code",
   "execution_count": 16,
   "id": "750a4dcd",
   "metadata": {},
   "outputs": [],
   "source": [
    "# create a function to scale X_train, X_validate, and X_test data using StandardScaler()\n",
    "def standard_scaler():\n",
    "    '''This function applies the .StandardScaler method from sklearn to previously assigned\n",
    "    X_train, X_validate, and X_test variables and returns the scaled versions of each variable.'''\n",
    "    # make the scaler\n",
    "    scaler = sklearn.preprocessing.StandardScaler()\n",
    "    # fit and transform the X_train data\n",
    "    X_train_standard = pd.DataFrame(scaler.fit_transform(X_train))\n",
    "    # transform the X_validate data\n",
    "    X_validate_standard = pd.DataFrame(scaler.transform(X_validate))\n",
    "    # transform the X_test data\n",
    "    X_test_standard = pd.DataFrame(scaler.transform(X_test))\n",
    "    # return the scaled data for each renamed variable\n",
    "    return X_train_standard, X_validate_standard, X_test_standard"
   ]
  },
  {
   "cell_type": "code",
   "execution_count": 18,
   "id": "824d90c4",
   "metadata": {},
   "outputs": [],
   "source": [
    "# create a function to scale X_train, X_validate, and X_test data using MinMaxScaler()\n",
    "def robust_scaler():\n",
    "    '''This function applies the .RobustScaler method from sklearn to previously assigned\n",
    "    X_train, X_validate, and X_test variables and returns the scaled versions of each variable.'''\n",
    "    # make the scaler\n",
    "    scaler = sklearn.preprocessing.RobustScaler()\n",
    "    # fit and transform the X_train data\n",
    "    X_train_robust = pd.DataFrame(scaler.fit_transform(X_train))\n",
    "    # transform the X_validate data\n",
    "    X_validate_robust = pd.DataFrame(scaler.transform(X_validate))\n",
    "    # transform the X_test data\n",
    "    X_test_robust = pd.DataFrame(scaler.transform(X_test))\n",
    "    # return the scaled data for each renamed variable\n",
    "    return X_train_robust, X_validate_robust, X_test_robust"
   ]
  },
  {
   "cell_type": "code",
   "execution_count": 12,
   "id": "7311c8cd",
   "metadata": {},
   "outputs": [],
   "source": [
    "# create a function to scale X_train, X_validate, and X_test data using quantile transformer\n",
    "def quantile_scaler_norm():\n",
    "    '''This function applies the .QuantileTransformer method from sklearn to previously assigned\n",
    "    X_train, X_validate, and X_test variables and returns the scaled versions of each variable.'''\n",
    "    # make the scaler\n",
    "    scaler = sklearn.preprocessing.QuantileTransformer(output_distribution='normal')\n",
    "    # fit and transform the X_train variable\n",
    "    X_train_quantile = pd.DataFrame(scaler.fit_transform(X_train))\n",
    "    # transform the X_validate variable\n",
    "    X_validate_quantile = pd.DataFrame(scaler.transform(X_validate))\n",
    "    # transform the X_test variable\n",
    "    X_test_quantile = pd.DataFrame(scaler.transform(X_test))\n",
    "    # return three variables, one for each newly scaled variable\n",
    "    return X_train_quantile, X_validate_quantile, X_test_quantile"
   ]
  },
  {
   "cell_type": "code",
   "execution_count": 13,
   "id": "db5d3069",
   "metadata": {},
   "outputs": [],
   "source": [
    "x,y,z = quantile_scaler_norm()"
   ]
  },
  {
   "cell_type": "code",
   "execution_count": 14,
   "id": "f4d064a9",
   "metadata": {},
   "outputs": [
    {
     "data": {
      "text/plain": [
       "((999292, 5), (333098, 5), (333098, 5))"
      ]
     },
     "execution_count": 14,
     "metadata": {},
     "output_type": "execute_result"
    }
   ],
   "source": [
    "x.shape, y.shape, z.shape"
   ]
  },
  {
   "cell_type": "code",
   "execution_count": 15,
   "id": "8ce87bac",
   "metadata": {},
   "outputs": [
    {
     "data": {
      "image/png": "[encoded data removed]",
      "text/plain": [
       "<Figure size 432x288 with 1 Axes>"
      ]
     },
     "metadata": {
      "needs_background": "light"
     },
     "output_type": "display_data"
    }
   ],
   "source": [
    "plt.hist(x)\n",
    "plt.show()"
   ]
  },
  {
   "cell_type": "code",
   "execution_count": null,
   "id": "c1adabbe",
   "metadata": {},
   "outputs": [],
   "source": []
  }
 ],
 "metadata": {
  "kernelspec": {
   "display_name": "Python 3 (ipykernel)",
   "language": "python",
   "name": "python3"
  },
  "language_info": {
   "codemirror_mode": {
    "name": "ipython",
    "version": 3
   },
   "file_extension": ".py",
   "mimetype": "text/x-python",
   "name": "python",
   "nbconvert_exporter": "python",
   "pygments_lexer": "ipython3",
   "version": "3.9.12"
  }
 },
 "nbformat": 4,
 "nbformat_minor": 5
}
