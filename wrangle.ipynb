{
 "cells": [
  {
   "cell_type": "code",
   "execution_count": 5,
   "id": "79e14356",
   "metadata": {},
   "outputs": [],
   "source": [
    "import pandas as pd\n",
    "import numpy as np\n",
    "import env\n",
    "import acquire\n",
    "import os"
   ]
  },
  {
   "cell_type": "code",
   "execution_count": 4,
   "id": "2a1eef7c",
   "metadata": {},
   "outputs": [],
   "source": [
    "def get_connection(db, user=env.user, host=env.host, password=env.password):\n",
    "    '''This function uses credentials from an env file to log into a database'''\n",
    "    return f'mysql+pymysql://{user}:{password}@{host}/{db}'"
   ]
  },
  {
   "cell_type": "code",
   "execution_count": 5,
   "id": "a079d9df",
   "metadata": {},
   "outputs": [],
   "source": [
    "def new_zillow_db():\n",
    "    '''The function uses the get_connection function to connect to a database and retrieve the zillow dataset'''\n",
    "    return pd.read_sql('''SELECT bedroomcnt, bathroomcnt, calculatedfinishedsquarefeet, taxvaluedollarcnt, \n",
    "    yearbuilt, taxamount, fips from properties_2017 LEFT JOIN propertylandusetype USING(propertylandusetypeid)\n",
    "    WHERE propertylandusedesc IN (\"Single Family Residential\", \"Inferred Single Family Residential\");''', get_connection('zillow'))"
   ]
  },
  {
   "cell_type": "code",
   "execution_count": null,
   "id": "6214b936",
   "metadata": {},
   "outputs": [],
   "source": [
    "df = new_zillow_db()"
   ]
  },
  {
   "cell_type": "code",
   "execution_count": 3,
   "id": "46ac0d71",
   "metadata": {},
   "outputs": [],
   "source": [
    "def get_zillow_data():\n",
    "    '''\n",
    "    This function reads in telco data from Codeup database, writes data to\n",
    "    a csv file if a local file does not exist, and returns a df.\n",
    "    '''\n",
    "    if os.path.isfile('zillow.csv'):\n",
    "        \n",
    "        # If csv file exists read in data from csv file.\n",
    "        df = pd.read_csv('zillow.csv', index_col=0)\n",
    "        \n",
    "    else:\n",
    "        \n",
    "        # Read fresh data from db into a DataFrame\n",
    "        df = new_zillow_db()\n",
    "        \n",
    "        # Cache data\n",
    "        df.to_csv('zillow.csv')\n",
    "        \n",
    "    return df"
   ]
  },
  {
   "cell_type": "code",
   "execution_count": 32,
   "id": "0ea55124",
   "metadata": {},
   "outputs": [],
   "source": [
    "df = get_zillow_data()"
   ]
  },
  {
   "cell_type": "code",
   "execution_count": 33,
   "id": "834491df",
   "metadata": {},
   "outputs": [
    {
     "data": {
      "text/html": [
       "<div>\n",
       "<style scoped>\n",
       "    .dataframe tbody tr th:only-of-type {\n",
       "        vertical-align: middle;\n",
       "    }\n",
       "\n",
       "    .dataframe tbody tr th {\n",
       "        vertical-align: top;\n",
       "    }\n",
       "\n",
       "    .dataframe thead th {\n",
       "        text-align: right;\n",
       "    }\n",
       "</style>\n",
       "<table border=\"1\" class=\"dataframe\">\n",
       "  <thead>\n",
       "    <tr style=\"text-align: right;\">\n",
       "      <th></th>\n",
       "      <th>bedroomcnt</th>\n",
       "      <th>bathroomcnt</th>\n",
       "      <th>calculatedfinishedsquarefeet</th>\n",
       "      <th>taxvaluedollarcnt</th>\n",
       "      <th>yearbuilt</th>\n",
       "      <th>taxamount</th>\n",
       "      <th>fips</th>\n",
       "    </tr>\n",
       "  </thead>\n",
       "  <tbody>\n",
       "    <tr>\n",
       "      <th>0</th>\n",
       "      <td>0.0</td>\n",
       "      <td>0.0</td>\n",
       "      <td>NaN</td>\n",
       "      <td>27516.0</td>\n",
       "      <td>NaN</td>\n",
       "      <td>NaN</td>\n",
       "      <td>6037.0</td>\n",
       "    </tr>\n",
       "    <tr>\n",
       "      <th>1</th>\n",
       "      <td>0.0</td>\n",
       "      <td>0.0</td>\n",
       "      <td>NaN</td>\n",
       "      <td>10.0</td>\n",
       "      <td>NaN</td>\n",
       "      <td>NaN</td>\n",
       "      <td>6037.0</td>\n",
       "    </tr>\n",
       "    <tr>\n",
       "      <th>2</th>\n",
       "      <td>0.0</td>\n",
       "      <td>0.0</td>\n",
       "      <td>NaN</td>\n",
       "      <td>10.0</td>\n",
       "      <td>NaN</td>\n",
       "      <td>NaN</td>\n",
       "      <td>6037.0</td>\n",
       "    </tr>\n",
       "    <tr>\n",
       "      <th>3</th>\n",
       "      <td>0.0</td>\n",
       "      <td>0.0</td>\n",
       "      <td>NaN</td>\n",
       "      <td>2108.0</td>\n",
       "      <td>NaN</td>\n",
       "      <td>174.21</td>\n",
       "      <td>6037.0</td>\n",
       "    </tr>\n",
       "    <tr>\n",
       "      <th>4</th>\n",
       "      <td>4.0</td>\n",
       "      <td>2.0</td>\n",
       "      <td>3633.0</td>\n",
       "      <td>296425.0</td>\n",
       "      <td>2005.0</td>\n",
       "      <td>6941.39</td>\n",
       "      <td>6037.0</td>\n",
       "    </tr>\n",
       "  </tbody>\n",
       "</table>\n",
       "</div>"
      ],
      "text/plain": [
       "   bedroomcnt  bathroomcnt  calculatedfinishedsquarefeet  taxvaluedollarcnt  \\\n",
       "0         0.0          0.0                           NaN            27516.0   \n",
       "1         0.0          0.0                           NaN               10.0   \n",
       "2         0.0          0.0                           NaN               10.0   \n",
       "3         0.0          0.0                           NaN             2108.0   \n",
       "4         4.0          2.0                        3633.0           296425.0   \n",
       "\n",
       "   yearbuilt  taxamount    fips  \n",
       "0        NaN        NaN  6037.0  \n",
       "1        NaN        NaN  6037.0  \n",
       "2        NaN        NaN  6037.0  \n",
       "3        NaN     174.21  6037.0  \n",
       "4     2005.0    6941.39  6037.0  "
      ]
     },
     "execution_count": 33,
     "metadata": {},
     "output_type": "execute_result"
    }
   ],
   "source": [
    "df.head()"
   ]
  },
  {
   "cell_type": "code",
   "execution_count": 34,
   "id": "af6432c0",
   "metadata": {},
   "outputs": [],
   "source": [
    "df = df.dropna()"
   ]
  },
  {
   "cell_type": "code",
   "execution_count": 35,
   "id": "b5677873",
   "metadata": {},
   "outputs": [
    {
     "name": "stdout",
     "output_type": "stream",
     "text": [
      "<class 'pandas.core.frame.DataFrame'>\n",
      "Int64Index: 2140235 entries, 4 to 2152863\n",
      "Data columns (total 7 columns):\n",
      " #   Column                        Dtype  \n",
      "---  ------                        -----  \n",
      " 0   bedroomcnt                    float64\n",
      " 1   bathroomcnt                   float64\n",
      " 2   calculatedfinishedsquarefeet  float64\n",
      " 3   taxvaluedollarcnt             float64\n",
      " 4   yearbuilt                     float64\n",
      " 5   taxamount                     float64\n",
      " 6   fips                          float64\n",
      "dtypes: float64(7)\n",
      "memory usage: 130.6 MB\n"
     ]
    }
   ],
   "source": [
    "df.info()"
   ]
  },
  {
   "cell_type": "code",
   "execution_count": 36,
   "id": "a60866ff",
   "metadata": {},
   "outputs": [],
   "source": [
    "df.bedroomcnt = df.bedroomcnt.astype(int)"
   ]
  },
  {
   "cell_type": "code",
   "execution_count": 37,
   "id": "5a3a20ee",
   "metadata": {},
   "outputs": [],
   "source": [
    "df.yearbuilt = df.yearbuilt.astype(int)"
   ]
  },
  {
   "cell_type": "code",
   "execution_count": 38,
   "id": "76ad35cc",
   "metadata": {},
   "outputs": [
    {
     "data": {
      "text/plain": [
       "6037.0    1425207\n",
       "6059.0     552057\n",
       "6111.0     162971\n",
       "Name: fips, dtype: int64"
      ]
     },
     "execution_count": 38,
     "metadata": {},
     "output_type": "execute_result"
    }
   ],
   "source": [
    "df.fips.value_counts()"
   ]
  },
  {
   "cell_type": "code",
   "execution_count": 39,
   "id": "0b04d5b2",
   "metadata": {},
   "outputs": [],
   "source": [
    "df.fips = df.fips.astype(int)"
   ]
  },
  {
   "cell_type": "code",
   "execution_count": 40,
   "id": "4ff661ee",
   "metadata": {},
   "outputs": [],
   "source": [
    "df = df.rename(columns={'bedroomcnt': 'bedrooms', 'bathroomcnt': 'bathrooms', 'calculatedfinishedsquarefeet': 'sqft', \n",
    "                        'taxvaluedollarcnt': 'tax_value'})"
   ]
  },
  {
   "cell_type": "code",
   "execution_count": 41,
   "id": "163b38f7",
   "metadata": {},
   "outputs": [],
   "source": [
    "df = df.rename(columns={'yearbuilt': 'year', 'taxamount': 'tax_amount'})"
   ]
  },
  {
   "cell_type": "code",
   "execution_count": 42,
   "id": "1da7abe2",
   "metadata": {},
   "outputs": [
    {
     "data": {
      "text/html": [
       "<div>\n",
       "<style scoped>\n",
       "    .dataframe tbody tr th:only-of-type {\n",
       "        vertical-align: middle;\n",
       "    }\n",
       "\n",
       "    .dataframe tbody tr th {\n",
       "        vertical-align: top;\n",
       "    }\n",
       "\n",
       "    .dataframe thead th {\n",
       "        text-align: right;\n",
       "    }\n",
       "</style>\n",
       "<table border=\"1\" class=\"dataframe\">\n",
       "  <thead>\n",
       "    <tr style=\"text-align: right;\">\n",
       "      <th></th>\n",
       "      <th>bedrooms</th>\n",
       "      <th>bathrooms</th>\n",
       "      <th>sqft</th>\n",
       "      <th>tax_value</th>\n",
       "      <th>year</th>\n",
       "      <th>tax_amount</th>\n",
       "      <th>fips</th>\n",
       "    </tr>\n",
       "  </thead>\n",
       "  <tbody>\n",
       "    <tr>\n",
       "      <th>4</th>\n",
       "      <td>4</td>\n",
       "      <td>2.0</td>\n",
       "      <td>3633.0</td>\n",
       "      <td>296425.0</td>\n",
       "      <td>2005</td>\n",
       "      <td>6941.39</td>\n",
       "      <td>6037</td>\n",
       "    </tr>\n",
       "    <tr>\n",
       "      <th>6</th>\n",
       "      <td>3</td>\n",
       "      <td>4.0</td>\n",
       "      <td>1620.0</td>\n",
       "      <td>847770.0</td>\n",
       "      <td>2011</td>\n",
       "      <td>10244.94</td>\n",
       "      <td>6037</td>\n",
       "    </tr>\n",
       "    <tr>\n",
       "      <th>7</th>\n",
       "      <td>3</td>\n",
       "      <td>2.0</td>\n",
       "      <td>2077.0</td>\n",
       "      <td>646760.0</td>\n",
       "      <td>1926</td>\n",
       "      <td>7924.68</td>\n",
       "      <td>6037</td>\n",
       "    </tr>\n",
       "    <tr>\n",
       "      <th>11</th>\n",
       "      <td>0</td>\n",
       "      <td>0.0</td>\n",
       "      <td>1200.0</td>\n",
       "      <td>5328.0</td>\n",
       "      <td>1972</td>\n",
       "      <td>91.60</td>\n",
       "      <td>6037</td>\n",
       "    </tr>\n",
       "    <tr>\n",
       "      <th>14</th>\n",
       "      <td>0</td>\n",
       "      <td>0.0</td>\n",
       "      <td>171.0</td>\n",
       "      <td>6920.0</td>\n",
       "      <td>1973</td>\n",
       "      <td>255.17</td>\n",
       "      <td>6037</td>\n",
       "    </tr>\n",
       "    <tr>\n",
       "      <th>...</th>\n",
       "      <td>...</td>\n",
       "      <td>...</td>\n",
       "      <td>...</td>\n",
       "      <td>...</td>\n",
       "      <td>...</td>\n",
       "      <td>...</td>\n",
       "      <td>...</td>\n",
       "    </tr>\n",
       "    <tr>\n",
       "      <th>2152857</th>\n",
       "      <td>4</td>\n",
       "      <td>4.0</td>\n",
       "      <td>4375.0</td>\n",
       "      <td>422400.0</td>\n",
       "      <td>2015</td>\n",
       "      <td>13877.56</td>\n",
       "      <td>6037</td>\n",
       "    </tr>\n",
       "    <tr>\n",
       "      <th>2152859</th>\n",
       "      <td>4</td>\n",
       "      <td>3.0</td>\n",
       "      <td>2262.0</td>\n",
       "      <td>960756.0</td>\n",
       "      <td>2015</td>\n",
       "      <td>13494.52</td>\n",
       "      <td>6059</td>\n",
       "    </tr>\n",
       "    <tr>\n",
       "      <th>2152860</th>\n",
       "      <td>4</td>\n",
       "      <td>4.5</td>\n",
       "      <td>3127.0</td>\n",
       "      <td>536061.0</td>\n",
       "      <td>2014</td>\n",
       "      <td>6244.16</td>\n",
       "      <td>6059</td>\n",
       "    </tr>\n",
       "    <tr>\n",
       "      <th>2152862</th>\n",
       "      <td>3</td>\n",
       "      <td>2.5</td>\n",
       "      <td>1974.0</td>\n",
       "      <td>424353.0</td>\n",
       "      <td>2015</td>\n",
       "      <td>5302.70</td>\n",
       "      <td>6059</td>\n",
       "    </tr>\n",
       "    <tr>\n",
       "      <th>2152863</th>\n",
       "      <td>4</td>\n",
       "      <td>4.0</td>\n",
       "      <td>2110.0</td>\n",
       "      <td>554009.0</td>\n",
       "      <td>2014</td>\n",
       "      <td>6761.20</td>\n",
       "      <td>6037</td>\n",
       "    </tr>\n",
       "  </tbody>\n",
       "</table>\n",
       "<p>2140235 rows × 7 columns</p>\n",
       "</div>"
      ],
      "text/plain": [
       "         bedrooms  bathrooms    sqft  tax_value  year  tax_amount  fips\n",
       "4               4        2.0  3633.0   296425.0  2005     6941.39  6037\n",
       "6               3        4.0  1620.0   847770.0  2011    10244.94  6037\n",
       "7               3        2.0  2077.0   646760.0  1926     7924.68  6037\n",
       "11              0        0.0  1200.0     5328.0  1972       91.60  6037\n",
       "14              0        0.0   171.0     6920.0  1973      255.17  6037\n",
       "...           ...        ...     ...        ...   ...         ...   ...\n",
       "2152857         4        4.0  4375.0   422400.0  2015    13877.56  6037\n",
       "2152859         4        3.0  2262.0   960756.0  2015    13494.52  6059\n",
       "2152860         4        4.5  3127.0   536061.0  2014     6244.16  6059\n",
       "2152862         3        2.5  1974.0   424353.0  2015     5302.70  6059\n",
       "2152863         4        4.0  2110.0   554009.0  2014     6761.20  6037\n",
       "\n",
       "[2140235 rows x 7 columns]"
      ]
     },
     "execution_count": 42,
     "metadata": {},
     "output_type": "execute_result"
    }
   ],
   "source": [
    "df"
   ]
  },
  {
   "cell_type": "code",
   "execution_count": 43,
   "id": "22d9d326",
   "metadata": {},
   "outputs": [
    {
     "data": {
      "text/plain": [
       "3     962944\n",
       "4     633608\n",
       "2     334221\n",
       "5     150671\n",
       "6      25117\n",
       "1      22895\n",
       "7       4792\n",
       "0       4397\n",
       "8       1103\n",
       "9        290\n",
       "10       118\n",
       "11        34\n",
       "13        15\n",
       "12        12\n",
       "14         7\n",
       "15         5\n",
       "18         3\n",
       "16         2\n",
       "25         1\n",
       "Name: bedrooms, dtype: int64"
      ]
     },
     "execution_count": 43,
     "metadata": {},
     "output_type": "execute_result"
    }
   ],
   "source": [
    "df.bedrooms.value_counts()"
   ]
  },
  {
   "cell_type": "code",
   "execution_count": 44,
   "id": "56fbcfac",
   "metadata": {},
   "outputs": [
    {
     "data": {
      "text/plain": [
       "<AxesSubplot:>"
      ]
     },
     "execution_count": 44,
     "metadata": {},
     "output_type": "execute_result"
    },
    {
     "data": {
      "image/png": "[encoded data removed]",
      "text/plain": [
       "<Figure size 432x288 with 1 Axes>"
      ]
     },
     "metadata": {
      "needs_background": "light"
     },
     "output_type": "display_data"
    }
   ],
   "source": [
    "df.bedrooms.hist()"
   ]
  },
  {
   "cell_type": "code",
   "execution_count": 45,
   "id": "df5f1b08",
   "metadata": {},
   "outputs": [
    {
     "data": {
      "text/plain": [
       "<AxesSubplot:>"
      ]
     },
     "execution_count": 45,
     "metadata": {},
     "output_type": "execute_result"
    },
    {
     "data": {
      "image/png": "[encoded data removed]",
      "text/plain": [
       "<Figure size 432x288 with 1 Axes>"
      ]
     },
     "metadata": {
      "needs_background": "light"
     },
     "output_type": "display_data"
    }
   ],
   "source": [
    "df.bathrooms.hist()"
   ]
  },
  {
   "cell_type": "code",
   "execution_count": 46,
   "id": "87957aae",
   "metadata": {},
   "outputs": [
    {
     "data": {
      "text/plain": [
       "<AxesSubplot:>"
      ]
     },
     "execution_count": 46,
     "metadata": {},
     "output_type": "execute_result"
    },
    {
     "data": {
      "image/png": "[encoded data removed]",
      "text/plain": [
       "<Figure size 432x288 with 1 Axes>"
      ]
     },
     "metadata": {
      "needs_background": "light"
     },
     "output_type": "display_data"
    }
   ],
   "source": [
    "df.sqft.hist()"
   ]
  },
  {
   "cell_type": "code",
   "execution_count": 47,
   "id": "f199a06a",
   "metadata": {},
   "outputs": [
    {
     "data": {
      "text/plain": [
       "<AxesSubplot:>"
      ]
     },
     "execution_count": 47,
     "metadata": {},
     "output_type": "execute_result"
    },
    {
     "data": {
      "image/png": "[encoded data removed]",
      "text/plain": [
       "<Figure size 432x288 with 1 Axes>"
      ]
     },
     "metadata": {
      "needs_background": "light"
     },
     "output_type": "display_data"
    }
   ],
   "source": [
    "df.tax_value.hist()"
   ]
  },
  {
   "cell_type": "code",
   "execution_count": 48,
   "id": "c7211fe7",
   "metadata": {},
   "outputs": [
    {
     "data": {
      "text/plain": [
       "<AxesSubplot:>"
      ]
     },
     "execution_count": 48,
     "metadata": {},
     "output_type": "execute_result"
    },
    {
     "data": {
      "image/png": "[encoded data removed]",
      "text/plain": [
       "<Figure size 432x288 with 1 Axes>"
      ]
     },
     "metadata": {
      "needs_background": "light"
     },
     "output_type": "display_data"
    }
   ],
   "source": [
    "df.tax_amount.hist()"
   ]
  },
  {
   "cell_type": "code",
   "execution_count": 49,
   "id": "5dc670d1",
   "metadata": {},
   "outputs": [
    {
     "data": {
      "text/plain": [
       "<AxesSubplot:>"
      ]
     },
     "execution_count": 49,
     "metadata": {},
     "output_type": "execute_result"
    },
    {
     "data": {
      "image/png": "[encoded data removed]",
      "text/plain": [
       "<Figure size 432x288 with 1 Axes>"
      ]
     },
     "metadata": {
      "needs_background": "light"
     },
     "output_type": "display_data"
    }
   ],
   "source": [
    "df.year.hist()"
   ]
  },
  {
   "cell_type": "code",
   "execution_count": 50,
   "id": "630eacc2",
   "metadata": {},
   "outputs": [
    {
     "data": {
      "text/plain": [
       "58438           1.0\n",
       "1895867         1.0\n",
       "2017746         1.0\n",
       "1276354         1.0\n",
       "1359289         1.0\n",
       "             ...   \n",
       "530834      52503.0\n",
       "830510      59220.0\n",
       "1432167     63692.0\n",
       "1689333    531118.0\n",
       "849924     952576.0\n",
       "Name: sqft, Length: 2140235, dtype: float64"
      ]
     },
     "execution_count": 50,
     "metadata": {},
     "output_type": "execute_result"
    }
   ],
   "source": [
    "df.sqft.sort_values()"
   ]
  },
  {
   "cell_type": "code",
   "execution_count": 51,
   "id": "7ab1c010",
   "metadata": {},
   "outputs": [
    {
     "data": {
      "text/plain": [
       "1151824          22.0\n",
       "1765722          22.0\n",
       "818180           22.0\n",
       "1259496          22.0\n",
       "1539743          22.0\n",
       "              ...    \n",
       "430030     70416358.0\n",
       "2134693    71067500.0\n",
       "1618394    83196095.0\n",
       "950855     88020448.0\n",
       "530834     90188462.0\n",
       "Name: tax_value, Length: 2140235, dtype: float64"
      ]
     },
     "execution_count": 51,
     "metadata": {},
     "output_type": "execute_result"
    }
   ],
   "source": [
    "df.tax_value.sort_values()"
   ]
  },
  {
   "cell_type": "code",
   "execution_count": 52,
   "id": "117a9646",
   "metadata": {},
   "outputs": [
    {
     "data": {
      "text/plain": [
       "2104722          6.34\n",
       "849981          13.36\n",
       "1775803         13.36\n",
       "128743          13.36\n",
       "1366850         13.36\n",
       "              ...    \n",
       "2134693     824166.91\n",
       "430030      841059.04\n",
       "1618394     994030.96\n",
       "950855     1052070.50\n",
       "530834     1078101.87\n",
       "Name: tax_amount, Length: 2140235, dtype: float64"
      ]
     },
     "execution_count": 52,
     "metadata": {},
     "output_type": "execute_result"
    }
   ],
   "source": [
    "df.tax_amount.sort_values()"
   ]
  },
  {
   "cell_type": "code",
   "execution_count": 53,
   "id": "40b9ab46",
   "metadata": {},
   "outputs": [
    {
     "data": {
      "text/plain": [
       "1005350    1801\n",
       "1823374    1801\n",
       "1048332    1801\n",
       "1104176    1807\n",
       "2029623    1812\n",
       "           ... \n",
       "720945     2016\n",
       "1916217    2016\n",
       "1765726    2016\n",
       "53820      2016\n",
       "1873169    2016\n",
       "Name: year, Length: 2140235, dtype: int64"
      ]
     },
     "execution_count": 53,
     "metadata": {},
     "output_type": "execute_result"
    }
   ],
   "source": [
    "df.year.sort_values()"
   ]
  },
  {
   "cell_type": "code",
   "execution_count": 18,
   "id": "5c17188a",
   "metadata": {},
   "outputs": [],
   "source": [
    "df = df[df['bedrooms'] != 0]"
   ]
  },
  {
   "cell_type": "code",
   "execution_count": 20,
   "id": "1e3b6236",
   "metadata": {},
   "outputs": [],
   "source": [
    "df = df[df['bathrooms'] != 0]"
   ]
  },
  {
   "cell_type": "code",
   "execution_count": 21,
   "id": "0872420f",
   "metadata": {},
   "outputs": [],
   "source": [
    "df = df[df['bedrooms'] < 8]"
   ]
  },
  {
   "cell_type": "code",
   "execution_count": 22,
   "id": "7479e605",
   "metadata": {},
   "outputs": [],
   "source": [
    "df = df[df['bathrooms'] < 6]"
   ]
  },
  {
   "cell_type": "code",
   "execution_count": 24,
   "id": "2c236a8c",
   "metadata": {},
   "outputs": [],
   "source": [
    "df = df[df.sqft > 700]"
   ]
  },
  {
   "cell_type": "code",
   "execution_count": 25,
   "id": "70a4e129",
   "metadata": {},
   "outputs": [],
   "source": [
    "df = df[df.sqft < 10000]"
   ]
  },
  {
   "cell_type": "code",
   "execution_count": 26,
   "id": "7c8e01a6",
   "metadata": {},
   "outputs": [],
   "source": [
    "df = df[df.tax_value < 600000]"
   ]
  },
  {
   "cell_type": "code",
   "execution_count": 27,
   "id": "f25258b4",
   "metadata": {},
   "outputs": [],
   "source": [
    "df = df[df.tax_value > 1000]"
   ]
  },
  {
   "cell_type": "code",
   "execution_count": 28,
   "id": "114bc190",
   "metadata": {},
   "outputs": [],
   "source": [
    "df = df[df.year > 1899]"
   ]
  },
  {
   "cell_type": "code",
   "execution_count": 29,
   "id": "105e8306",
   "metadata": {},
   "outputs": [],
   "source": [
    "df = df[df.tax_amount < 8000]"
   ]
  },
  {
   "cell_type": "code",
   "execution_count": null,
   "id": "986c89b9",
   "metadata": {},
   "outputs": [],
   "source": [
    "# add all the individual steps into one function to wrangle the zillow database"
   ]
  },
  {
   "cell_type": "code",
   "execution_count": 31,
   "id": "f1f9c6ac",
   "metadata": {},
   "outputs": [],
   "source": [
    "# create a function to acquire and prepare the zillow database\n",
    "def wrangle_zillow():\n",
    "    '''This function acquires the zillow dataset from the Codeup database using a SQL query and returns a cleaned\n",
    "    dataframe from a csv file. Observations with null values are dropped and column names are changed for\n",
    "    readability. Values expected as integers are converted to integer types (year, bedrooms, fips).'''\n",
    "    # use the get_zillow_data function to acquire the dataset and save it to a csv\n",
    "    df = get_zillow_data()\n",
    "    # drop rows with null values\n",
    "    df = df.dropna()\n",
    "    # change bedroom count to an integer\n",
    "    df.bedroomcnt = df.bedroomcnt.astype(int)\n",
    "    # change year built to an integer\n",
    "    df.yearbuilt = df.yearbuilt.astype(int)\n",
    "    # change fips to an integer\n",
    "    df.fips = df.fips.astype(int)\n",
    "    # rename columns for readability\n",
    "    df = df.rename(columns={'bedroomcnt': 'bedrooms', 'bathroomcnt': 'bathrooms', 'calculatedfinishedsquarefeet': 'sqft', \n",
    "                        'taxvaluedollarcnt': 'tax_value', 'yearbuilt': 'year', 'taxamount': 'tax_amount'})\n",
    "    # remove rows with 0 bedrooms\n",
    "    df = df[df['bedrooms'] != 0]\n",
    "    # remove rows with 0 bathrooms\n",
    "    df = df[df['bathrooms'] != 0]\n",
    "    # remove rows with 8 or more bedrooms\n",
    "    df = df[df['bedrooms'] < 8]\n",
    "    # remove rows with 6 or more bathrooms\n",
    "    df = df[df['bathrooms'] < 6]\n",
    "    # remove rows with values less than or equal to 700 square feet\n",
    "    df = df[df.sqft > 700]\n",
    "    # remove rows with values greater than or equal to 10_000 square feet\n",
    "    df = df[df.sqft < 10000]\n",
    "    # remove rows with tax values greater than or equal to 600000\n",
    "    df = df[df.tax_value < 600000]\n",
    "    # remove rows with tax values less than or equal to 1000\n",
    "    df = df[df.tax_value > 1000]\n",
    "    # remove rows with a year less than or equal to 1899\n",
    "    df = df[df.year > 1899]\n",
    "    # remove rows with a tax amount greater than or equal to 8000\n",
    "    df = df[df.tax_amount < 8000]\n",
    "    return df"
   ]
  },
  {
   "cell_type": "code",
   "execution_count": null,
   "id": "5e691f47",
   "metadata": {},
   "outputs": [],
   "source": []
  }
 ],
 "metadata": {
  "kernelspec": {
   "display_name": "Python 3 (ipykernel)",
   "language": "python",
   "name": "python3"
  },
  "language_info": {
   "codemirror_mode": {
    "name": "ipython",
    "version": 3
   },
   "file_extension": ".py",
   "mimetype": "text/x-python",
   "name": "python",
   "nbconvert_exporter": "python",
   "pygments_lexer": "ipython3",
   "version": "3.9.12"
  }
 },
 "nbformat": 4,
 "nbformat_minor": 5
}
