{
 "cells": [
  {
   "cell_type": "markdown",
   "id": "f9dfef25",
   "metadata": {},
   "source": [
    "Do you work for this exercise in either a jupyter notebook named evaluate within your regression-exercises repository. By the end of this exercise you will also create a python script named evaluate, so the overall deliverables for this exercise are the python script and jupyter notebook both with the name evaluate within your regression-exercises repo.\n",
    "\n",
    "Load your zillow dataset.\n",
    "\n",
    "Fit a linear regression model (ordinary least squares) and compute yhat, predictions of tax_value using only sqft.\n",
    "\n",
    "Here is some sample code to get you started:\n",
    "\n",
    "\n",
    "from sklearn.linear_model import LinearRegression\n",
    "\n",
    "#### assuming X and y are already defined\n",
    "\n",
    "model = LinearRegression().fit(X, y)\n",
    "predictions = model.predict(X)\n",
    "Modify and add to the code above as necessary for it to work with the zillow dataset.\n",
    "\n",
    "Plot the residuals for the linear regression model that you made.\n",
    "\n",
    "Calculate the sum of squared errors, explained sum of squares, total sum of squares, mean squared error, and root mean squared error for your model.\n",
    "\n",
    "Calculate the sum of squared errors, mean squared error, and root mean squared error for the baseline model (i.e. a model that always predicts the average taxvaluedollarcnt amount).\n",
    "\n",
    "Write python code that compares the sum of squared errors for your model against the sum of squared errors for the baseline model and outputs whether or not your model performs better than the baseline model.\n",
    "\n",
    "What is the amount of variance explained in your model?\n",
    "\n",
    "Is your model better than the baseline model?\n",
    "\n",
    "Create a file named evaluate.py that contains the following functions.\n",
    "\n",
    "plot_residuals(y, yhat): creates a residual plot\n",
    "\n",
    "regression_errors(y, yhat): returns the following values:\n",
    "\n",
    "sum of squared errors (SSE)\n",
    "\n",
    "explained sum of squares (ESS)\n",
    "\n",
    "total sum of squares (TSS)\n",
    "\n",
    "mean squared error (MSE)\n",
    "\n",
    "root mean squared error (RMSE)\n",
    "\n",
    "baseline_mean_errors(y): computes the SSE, MSE, and RMSE for the baseline model\n",
    "\n",
    "better_than_baseline(y, yhat): returns true if your model performs better than the baseline, otherwise false\n",
    "\n",
    "Bonus Exercises\n",
    "\n",
    "Load the tips dataset from either pydataset or seaborn. Fit a linear regression model (ordinary least squares) and compute yhat, predictions of tip using total_bill.\n",
    "\n",
    "Load the mpg dataset and fit a model that predicts highway mileage based on engine displacement. Take a look at all the regression evaluation metrics, and determine whether this model is better than the baseline model. Use the functions from your evaluate.py to help accomplish this."
   ]
  },
  {
   "cell_type": "code",
   "execution_count": 66,
   "id": "00ba0dbf",
   "metadata": {},
   "outputs": [],
   "source": [
    "import pandas as pd\n",
    "import numpy as np\n",
    "import wrangle\n",
    "import explore\n",
    "import matplotlib.pyplot as plt\n",
    "import seaborn as sns\n",
    "from scipy import stats\n",
    "from math import sqrt\n",
    "from sklearn.preprocessing import MinMaxScaler, StandardScaler\n",
    "from sklearn.linear_model import LinearRegression\n",
    "from sklearn.feature_selection import f_regression \n",
    "from sklearn.metrics import mean_squared_error, r2_score, explained_variance_score"
   ]
  },
  {
   "cell_type": "code",
   "execution_count": 338,
   "id": "85a35533",
   "metadata": {},
   "outputs": [],
   "source": [
    "# load the zillow dataset and save to a variable\n",
    "df = wrangle.wrangle_zillow()"
   ]
  },
  {
   "cell_type": "code",
   "execution_count": 339,
   "id": "87bd6aa8",
   "metadata": {},
   "outputs": [],
   "source": [
    "# split the zillow dataset into train, validate, test using wrangle.py function\n",
    "train, validate, test = wrangle.split_data(df)"
   ]
  },
  {
   "cell_type": "code",
   "execution_count": 340,
   "id": "af14c991",
   "metadata": {},
   "outputs": [
    {
     "data": {
      "text/html": [
       "<div>\n",
       "<style scoped>\n",
       "    .dataframe tbody tr th:only-of-type {\n",
       "        vertical-align: middle;\n",
       "    }\n",
       "\n",
       "    .dataframe tbody tr th {\n",
       "        vertical-align: top;\n",
       "    }\n",
       "\n",
       "    .dataframe thead th {\n",
       "        text-align: right;\n",
       "    }\n",
       "</style>\n",
       "<table border=\"1\" class=\"dataframe\">\n",
       "  <thead>\n",
       "    <tr style=\"text-align: right;\">\n",
       "      <th></th>\n",
       "      <th>bedrooms</th>\n",
       "      <th>bathrooms</th>\n",
       "      <th>sqft</th>\n",
       "      <th>tax_value</th>\n",
       "      <th>year</th>\n",
       "      <th>tax_amount</th>\n",
       "      <th>fips</th>\n",
       "    </tr>\n",
       "  </thead>\n",
       "  <tbody>\n",
       "    <tr>\n",
       "      <th>864307</th>\n",
       "      <td>4</td>\n",
       "      <td>3.0</td>\n",
       "      <td>2164.0</td>\n",
       "      <td>514069.0</td>\n",
       "      <td>1970</td>\n",
       "      <td>6792.81</td>\n",
       "      <td>6037</td>\n",
       "    </tr>\n",
       "    <tr>\n",
       "      <th>1433067</th>\n",
       "      <td>5</td>\n",
       "      <td>5.0</td>\n",
       "      <td>3582.0</td>\n",
       "      <td>326561.0</td>\n",
       "      <td>1990</td>\n",
       "      <td>4164.22</td>\n",
       "      <td>6037</td>\n",
       "    </tr>\n",
       "    <tr>\n",
       "      <th>1170762</th>\n",
       "      <td>3</td>\n",
       "      <td>2.5</td>\n",
       "      <td>1397.0</td>\n",
       "      <td>266050.0</td>\n",
       "      <td>1989</td>\n",
       "      <td>3735.74</td>\n",
       "      <td>6059</td>\n",
       "    </tr>\n",
       "    <tr>\n",
       "      <th>1694318</th>\n",
       "      <td>4</td>\n",
       "      <td>3.0</td>\n",
       "      <td>2208.0</td>\n",
       "      <td>105567.0</td>\n",
       "      <td>1926</td>\n",
       "      <td>1405.65</td>\n",
       "      <td>6037</td>\n",
       "    </tr>\n",
       "    <tr>\n",
       "      <th>149423</th>\n",
       "      <td>4</td>\n",
       "      <td>2.0</td>\n",
       "      <td>1631.0</td>\n",
       "      <td>356406.0</td>\n",
       "      <td>1969</td>\n",
       "      <td>4323.56</td>\n",
       "      <td>6059</td>\n",
       "    </tr>\n",
       "  </tbody>\n",
       "</table>\n",
       "</div>"
      ],
      "text/plain": [
       "         bedrooms  bathrooms    sqft  tax_value  year  tax_amount  fips\n",
       "864307          4        3.0  2164.0   514069.0  1970     6792.81  6037\n",
       "1433067         5        5.0  3582.0   326561.0  1990     4164.22  6037\n",
       "1170762         3        2.5  1397.0   266050.0  1989     3735.74  6059\n",
       "1694318         4        3.0  2208.0   105567.0  1926     1405.65  6037\n",
       "149423          4        2.0  1631.0   356406.0  1969     4323.56  6059"
      ]
     },
     "execution_count": 340,
     "metadata": {},
     "output_type": "execute_result"
    }
   ],
   "source": [
    "train.head()"
   ]
  },
  {
   "cell_type": "code",
   "execution_count": 341,
   "id": "2177592d",
   "metadata": {},
   "outputs": [],
   "source": [
    "# set the baseline prediction to the variable baseline (mean of target)\n",
    "baseline = train.tax_value.mean()"
   ]
  },
  {
   "cell_type": "code",
   "execution_count": 342,
   "id": "51e8c979",
   "metadata": {},
   "outputs": [],
   "source": [
    "# create a new column with the baseline predictions\n",
    "train['baseline'] = baseline"
   ]
  },
  {
   "cell_type": "code",
   "execution_count": 343,
   "id": "3ae7b4a1",
   "metadata": {},
   "outputs": [
    {
     "data": {
      "text/html": [
       "<div>\n",
       "<style scoped>\n",
       "    .dataframe tbody tr th:only-of-type {\n",
       "        vertical-align: middle;\n",
       "    }\n",
       "\n",
       "    .dataframe tbody tr th {\n",
       "        vertical-align: top;\n",
       "    }\n",
       "\n",
       "    .dataframe thead th {\n",
       "        text-align: right;\n",
       "    }\n",
       "</style>\n",
       "<table border=\"1\" class=\"dataframe\">\n",
       "  <thead>\n",
       "    <tr style=\"text-align: right;\">\n",
       "      <th></th>\n",
       "      <th>bedrooms</th>\n",
       "      <th>bathrooms</th>\n",
       "      <th>sqft</th>\n",
       "      <th>tax_value</th>\n",
       "      <th>year</th>\n",
       "      <th>tax_amount</th>\n",
       "      <th>fips</th>\n",
       "      <th>baseline</th>\n",
       "    </tr>\n",
       "  </thead>\n",
       "  <tbody>\n",
       "    <tr>\n",
       "      <th>864307</th>\n",
       "      <td>4</td>\n",
       "      <td>3.0</td>\n",
       "      <td>2164.0</td>\n",
       "      <td>514069.0</td>\n",
       "      <td>1970</td>\n",
       "      <td>6792.81</td>\n",
       "      <td>6037</td>\n",
       "      <td>280186.669215</td>\n",
       "    </tr>\n",
       "    <tr>\n",
       "      <th>1433067</th>\n",
       "      <td>5</td>\n",
       "      <td>5.0</td>\n",
       "      <td>3582.0</td>\n",
       "      <td>326561.0</td>\n",
       "      <td>1990</td>\n",
       "      <td>4164.22</td>\n",
       "      <td>6037</td>\n",
       "      <td>280186.669215</td>\n",
       "    </tr>\n",
       "    <tr>\n",
       "      <th>1170762</th>\n",
       "      <td>3</td>\n",
       "      <td>2.5</td>\n",
       "      <td>1397.0</td>\n",
       "      <td>266050.0</td>\n",
       "      <td>1989</td>\n",
       "      <td>3735.74</td>\n",
       "      <td>6059</td>\n",
       "      <td>280186.669215</td>\n",
       "    </tr>\n",
       "    <tr>\n",
       "      <th>1694318</th>\n",
       "      <td>4</td>\n",
       "      <td>3.0</td>\n",
       "      <td>2208.0</td>\n",
       "      <td>105567.0</td>\n",
       "      <td>1926</td>\n",
       "      <td>1405.65</td>\n",
       "      <td>6037</td>\n",
       "      <td>280186.669215</td>\n",
       "    </tr>\n",
       "    <tr>\n",
       "      <th>149423</th>\n",
       "      <td>4</td>\n",
       "      <td>2.0</td>\n",
       "      <td>1631.0</td>\n",
       "      <td>356406.0</td>\n",
       "      <td>1969</td>\n",
       "      <td>4323.56</td>\n",
       "      <td>6059</td>\n",
       "      <td>280186.669215</td>\n",
       "    </tr>\n",
       "  </tbody>\n",
       "</table>\n",
       "</div>"
      ],
      "text/plain": [
       "         bedrooms  bathrooms    sqft  tax_value  year  tax_amount  fips  \\\n",
       "864307          4        3.0  2164.0   514069.0  1970     6792.81  6037   \n",
       "1433067         5        5.0  3582.0   326561.0  1990     4164.22  6037   \n",
       "1170762         3        2.5  1397.0   266050.0  1989     3735.74  6059   \n",
       "1694318         4        3.0  2208.0   105567.0  1926     1405.65  6037   \n",
       "149423          4        2.0  1631.0   356406.0  1969     4323.56  6059   \n",
       "\n",
       "              baseline  \n",
       "864307   280186.669215  \n",
       "1433067  280186.669215  \n",
       "1170762  280186.669215  \n",
       "1694318  280186.669215  \n",
       "149423   280186.669215  "
      ]
     },
     "execution_count": 343,
     "metadata": {},
     "output_type": "execute_result"
    }
   ],
   "source": [
    "train.head()"
   ]
  },
  {
   "cell_type": "code",
   "execution_count": 344,
   "id": "e48ad3d1",
   "metadata": {},
   "outputs": [],
   "source": [
    "# make and fit the linear regression model to the selected variables in train and the target variable\n",
    "ols_model = LinearRegression().fit(train[['sqft']], train.tax_value)"
   ]
  },
  {
   "cell_type": "code",
   "execution_count": 345,
   "id": "68a15c59",
   "metadata": {},
   "outputs": [],
   "source": [
    "# create a new column in the dataframe for the model predictions (yhat)\n",
    "train['yhat'] = ols_model.predict(train[['sqft']])"
   ]
  },
  {
   "cell_type": "code",
   "execution_count": 346,
   "id": "a733e3dc",
   "metadata": {},
   "outputs": [
    {
     "data": {
      "text/html": [
       "<div>\n",
       "<style scoped>\n",
       "    .dataframe tbody tr th:only-of-type {\n",
       "        vertical-align: middle;\n",
       "    }\n",
       "\n",
       "    .dataframe tbody tr th {\n",
       "        vertical-align: top;\n",
       "    }\n",
       "\n",
       "    .dataframe thead th {\n",
       "        text-align: right;\n",
       "    }\n",
       "</style>\n",
       "<table border=\"1\" class=\"dataframe\">\n",
       "  <thead>\n",
       "    <tr style=\"text-align: right;\">\n",
       "      <th></th>\n",
       "      <th>bedrooms</th>\n",
       "      <th>bathrooms</th>\n",
       "      <th>sqft</th>\n",
       "      <th>tax_value</th>\n",
       "      <th>year</th>\n",
       "      <th>tax_amount</th>\n",
       "      <th>fips</th>\n",
       "      <th>baseline</th>\n",
       "      <th>yhat</th>\n",
       "    </tr>\n",
       "  </thead>\n",
       "  <tbody>\n",
       "    <tr>\n",
       "      <th>864307</th>\n",
       "      <td>4</td>\n",
       "      <td>3.0</td>\n",
       "      <td>2164.0</td>\n",
       "      <td>514069.0</td>\n",
       "      <td>1970</td>\n",
       "      <td>6792.81</td>\n",
       "      <td>6037</td>\n",
       "      <td>280186.669215</td>\n",
       "      <td>324283.180032</td>\n",
       "    </tr>\n",
       "    <tr>\n",
       "      <th>1433067</th>\n",
       "      <td>5</td>\n",
       "      <td>5.0</td>\n",
       "      <td>3582.0</td>\n",
       "      <td>326561.0</td>\n",
       "      <td>1990</td>\n",
       "      <td>4164.22</td>\n",
       "      <td>6037</td>\n",
       "      <td>280186.669215</td>\n",
       "      <td>438906.594061</td>\n",
       "    </tr>\n",
       "    <tr>\n",
       "      <th>1170762</th>\n",
       "      <td>3</td>\n",
       "      <td>2.5</td>\n",
       "      <td>1397.0</td>\n",
       "      <td>266050.0</td>\n",
       "      <td>1989</td>\n",
       "      <td>3735.74</td>\n",
       "      <td>6059</td>\n",
       "      <td>280186.669215</td>\n",
       "      <td>262283.068212</td>\n",
       "    </tr>\n",
       "    <tr>\n",
       "      <th>1694318</th>\n",
       "      <td>4</td>\n",
       "      <td>3.0</td>\n",
       "      <td>2208.0</td>\n",
       "      <td>105567.0</td>\n",
       "      <td>1926</td>\n",
       "      <td>1405.65</td>\n",
       "      <td>6037</td>\n",
       "      <td>280186.669215</td>\n",
       "      <td>327839.900918</td>\n",
       "    </tr>\n",
       "    <tr>\n",
       "      <th>149423</th>\n",
       "      <td>4</td>\n",
       "      <td>2.0</td>\n",
       "      <td>1631.0</td>\n",
       "      <td>356406.0</td>\n",
       "      <td>1969</td>\n",
       "      <td>4323.56</td>\n",
       "      <td>6059</td>\n",
       "      <td>280186.669215</td>\n",
       "      <td>281198.356564</td>\n",
       "    </tr>\n",
       "  </tbody>\n",
       "</table>\n",
       "</div>"
      ],
      "text/plain": [
       "         bedrooms  bathrooms    sqft  tax_value  year  tax_amount  fips  \\\n",
       "864307          4        3.0  2164.0   514069.0  1970     6792.81  6037   \n",
       "1433067         5        5.0  3582.0   326561.0  1990     4164.22  6037   \n",
       "1170762         3        2.5  1397.0   266050.0  1989     3735.74  6059   \n",
       "1694318         4        3.0  2208.0   105567.0  1926     1405.65  6037   \n",
       "149423          4        2.0  1631.0   356406.0  1969     4323.56  6059   \n",
       "\n",
       "              baseline           yhat  \n",
       "864307   280186.669215  324283.180032  \n",
       "1433067  280186.669215  438906.594061  \n",
       "1170762  280186.669215  262283.068212  \n",
       "1694318  280186.669215  327839.900918  \n",
       "149423   280186.669215  281198.356564  "
      ]
     },
     "execution_count": 346,
     "metadata": {},
     "output_type": "execute_result"
    }
   ],
   "source": [
    "train.head()"
   ]
  },
  {
   "cell_type": "code",
   "execution_count": 347,
   "id": "7ac4cce9",
   "metadata": {},
   "outputs": [],
   "source": [
    "# create a new column for the model residual error\n",
    "train['residual'] = train.yhat - train.tax_value\n",
    "# create a new column for the baseline residual error\n",
    "train['residual_baseline'] = train.baseline - train.tax_value"
   ]
  },
  {
   "cell_type": "code",
   "execution_count": 348,
   "id": "dd5f1bae",
   "metadata": {},
   "outputs": [
    {
     "data": {
      "text/html": [
       "<div>\n",
       "<style scoped>\n",
       "    .dataframe tbody tr th:only-of-type {\n",
       "        vertical-align: middle;\n",
       "    }\n",
       "\n",
       "    .dataframe tbody tr th {\n",
       "        vertical-align: top;\n",
       "    }\n",
       "\n",
       "    .dataframe thead th {\n",
       "        text-align: right;\n",
       "    }\n",
       "</style>\n",
       "<table border=\"1\" class=\"dataframe\">\n",
       "  <thead>\n",
       "    <tr style=\"text-align: right;\">\n",
       "      <th></th>\n",
       "      <th>bedrooms</th>\n",
       "      <th>bathrooms</th>\n",
       "      <th>sqft</th>\n",
       "      <th>tax_value</th>\n",
       "      <th>year</th>\n",
       "      <th>tax_amount</th>\n",
       "      <th>fips</th>\n",
       "      <th>baseline</th>\n",
       "      <th>yhat</th>\n",
       "      <th>residual</th>\n",
       "      <th>residual_baseline</th>\n",
       "    </tr>\n",
       "  </thead>\n",
       "  <tbody>\n",
       "    <tr>\n",
       "      <th>864307</th>\n",
       "      <td>4</td>\n",
       "      <td>3.0</td>\n",
       "      <td>2164.0</td>\n",
       "      <td>514069.0</td>\n",
       "      <td>1970</td>\n",
       "      <td>6792.81</td>\n",
       "      <td>6037</td>\n",
       "      <td>280186.669215</td>\n",
       "      <td>324283.180032</td>\n",
       "      <td>-189785.819968</td>\n",
       "      <td>-233882.330785</td>\n",
       "    </tr>\n",
       "    <tr>\n",
       "      <th>1433067</th>\n",
       "      <td>5</td>\n",
       "      <td>5.0</td>\n",
       "      <td>3582.0</td>\n",
       "      <td>326561.0</td>\n",
       "      <td>1990</td>\n",
       "      <td>4164.22</td>\n",
       "      <td>6037</td>\n",
       "      <td>280186.669215</td>\n",
       "      <td>438906.594061</td>\n",
       "      <td>112345.594061</td>\n",
       "      <td>-46374.330785</td>\n",
       "    </tr>\n",
       "    <tr>\n",
       "      <th>1170762</th>\n",
       "      <td>3</td>\n",
       "      <td>2.5</td>\n",
       "      <td>1397.0</td>\n",
       "      <td>266050.0</td>\n",
       "      <td>1989</td>\n",
       "      <td>3735.74</td>\n",
       "      <td>6059</td>\n",
       "      <td>280186.669215</td>\n",
       "      <td>262283.068212</td>\n",
       "      <td>-3766.931788</td>\n",
       "      <td>14136.669215</td>\n",
       "    </tr>\n",
       "    <tr>\n",
       "      <th>1694318</th>\n",
       "      <td>4</td>\n",
       "      <td>3.0</td>\n",
       "      <td>2208.0</td>\n",
       "      <td>105567.0</td>\n",
       "      <td>1926</td>\n",
       "      <td>1405.65</td>\n",
       "      <td>6037</td>\n",
       "      <td>280186.669215</td>\n",
       "      <td>327839.900918</td>\n",
       "      <td>222272.900918</td>\n",
       "      <td>174619.669215</td>\n",
       "    </tr>\n",
       "    <tr>\n",
       "      <th>149423</th>\n",
       "      <td>4</td>\n",
       "      <td>2.0</td>\n",
       "      <td>1631.0</td>\n",
       "      <td>356406.0</td>\n",
       "      <td>1969</td>\n",
       "      <td>4323.56</td>\n",
       "      <td>6059</td>\n",
       "      <td>280186.669215</td>\n",
       "      <td>281198.356564</td>\n",
       "      <td>-75207.643436</td>\n",
       "      <td>-76219.330785</td>\n",
       "    </tr>\n",
       "  </tbody>\n",
       "</table>\n",
       "</div>"
      ],
      "text/plain": [
       "         bedrooms  bathrooms    sqft  tax_value  year  tax_amount  fips  \\\n",
       "864307          4        3.0  2164.0   514069.0  1970     6792.81  6037   \n",
       "1433067         5        5.0  3582.0   326561.0  1990     4164.22  6037   \n",
       "1170762         3        2.5  1397.0   266050.0  1989     3735.74  6059   \n",
       "1694318         4        3.0  2208.0   105567.0  1926     1405.65  6037   \n",
       "149423          4        2.0  1631.0   356406.0  1969     4323.56  6059   \n",
       "\n",
       "              baseline           yhat       residual  residual_baseline  \n",
       "864307   280186.669215  324283.180032 -189785.819968     -233882.330785  \n",
       "1433067  280186.669215  438906.594061  112345.594061      -46374.330785  \n",
       "1170762  280186.669215  262283.068212   -3766.931788       14136.669215  \n",
       "1694318  280186.669215  327839.900918  222272.900918      174619.669215  \n",
       "149423   280186.669215  281198.356564  -75207.643436      -76219.330785  "
      ]
     },
     "execution_count": 348,
     "metadata": {},
     "output_type": "execute_result"
    }
   ],
   "source": [
    "train.head()"
   ]
  },
  {
   "cell_type": "code",
   "execution_count": 349,
   "id": "567637ad",
   "metadata": {},
   "outputs": [],
   "source": [
    "# calculate the model's sum of squares error for the selected variables against the target variable\n",
    "SSE = mean_squared_error(train.tax_value, train.yhat)*len(train)\n",
    "# calculate the baseline's sum of squares error for the selected variables against the target variable\n",
    "SSE_baseline = mean_squared_error(train.tax_value, train.baseline)*len(train)\n",
    "# calculate the model mean squared error for the selected variables against the target variable\n",
    "MSE = mean_squared_error(train.tax_value, train.yhat)\n",
    "# calculate the baseline mean squared error for the selected variables against the target variable\n",
    "MSE_baseline = mean_squared_error(train.tax_value, train.baseline)\n",
    "# calculate the model root mean squared error for the selected variables against the target variable\n",
    "RMSE = sqrt(mean_squared_error(train.tax_value, train.yhat))\n",
    "# calculate the baseline root mean squared error for the selected variables against the target variable\n",
    "RMSE_baseline = sqrt(mean_squared_error(train.tax_value, train.baseline))"
   ]
  },
  {
   "cell_type": "code",
   "execution_count": 350,
   "id": "58501fac",
   "metadata": {},
   "outputs": [
    {
     "name": "stdout",
     "output_type": "stream",
     "text": [
      "  metric   model_error\n",
      "0    SSE  2.018489e+16\n",
      "1    MSE  2.020048e+10\n",
      "2   RMSE  1.421284e+05\n",
      "          metric   model_error\n",
      "0   SSE_baseline  2.231489e+16\n",
      "1   MSE_baseline  2.233213e+10\n",
      "2  RMSE_baseline  1.494394e+05\n"
     ]
    }
   ],
   "source": [
    "# create a dataframe for the model SSE, MSE, RMSE\n",
    "train_eval = pd.DataFrame(np.array(['SSE','MSE','RMSE']), columns=['metric'])\n",
    "# create a dataframe to show the baseline SSE, MSE, RMSE\n",
    "train_baseline_eval = pd.DataFrame(np.array(['SSE_baseline','MSE_baseline','RMSE_baseline']), columns=['metric'])\n",
    "# add a column to the train_eval dataframe for the values associated with each model metric\n",
    "train_eval['model_error'] = np.array([SSE, MSE, RMSE])\n",
    "# add a column to the train_baseline_eval for the values associated with each baseline metric\n",
    "train_baseline_eval['model_error'] = np.array([SSE_baseline, MSE_baseline, RMSE_baseline])\n",
    "# print the dataframes\n",
    "print(train_eval)\n",
    "print(train_baseline_eval)"
   ]
  },
  {
   "cell_type": "code",
   "execution_count": 351,
   "id": "817950c2",
   "metadata": {},
   "outputs": [
    {
     "data": {
      "text/html": [
       "<div>\n",
       "<style scoped>\n",
       "    .dataframe tbody tr th:only-of-type {\n",
       "        vertical-align: middle;\n",
       "    }\n",
       "\n",
       "    .dataframe tbody tr th {\n",
       "        vertical-align: top;\n",
       "    }\n",
       "\n",
       "    .dataframe thead th {\n",
       "        text-align: right;\n",
       "    }\n",
       "</style>\n",
       "<table border=\"1\" class=\"dataframe\">\n",
       "  <thead>\n",
       "    <tr style=\"text-align: right;\">\n",
       "      <th></th>\n",
       "      <th>metric</th>\n",
       "      <th>model_error</th>\n",
       "      <th>error_delta</th>\n",
       "    </tr>\n",
       "  </thead>\n",
       "  <tbody>\n",
       "    <tr>\n",
       "      <th>0</th>\n",
       "      <td>SSE</td>\n",
       "      <td>2.018489e+16</td>\n",
       "      <td>-2.129999e+15</td>\n",
       "    </tr>\n",
       "    <tr>\n",
       "      <th>1</th>\n",
       "      <td>MSE</td>\n",
       "      <td>2.020048e+10</td>\n",
       "      <td>-2.131644e+09</td>\n",
       "    </tr>\n",
       "    <tr>\n",
       "      <th>2</th>\n",
       "      <td>RMSE</td>\n",
       "      <td>1.421284e+05</td>\n",
       "      <td>-7.310974e+03</td>\n",
       "    </tr>\n",
       "  </tbody>\n",
       "</table>\n",
       "</div>"
      ],
      "text/plain": [
       "  metric   model_error   error_delta\n",
       "0    SSE  2.018489e+16 -2.129999e+15\n",
       "1    MSE  2.020048e+10 -2.131644e+09\n",
       "2   RMSE  1.421284e+05 -7.310974e+03"
      ]
     },
     "execution_count": 351,
     "metadata": {},
     "output_type": "execute_result"
    }
   ],
   "source": [
    "# add a column to train_eval for the error delta for each metric\n",
    "train_eval['error_delta'] = train_eval.model_error - train_baseline_eval.model_error\n",
    "train_eval"
   ]
  },
  {
   "cell_type": "code",
   "execution_count": 108,
   "id": "ada59996",
   "metadata": {},
   "outputs": [
    {
     "data": {
      "text/plain": [
       "<matplotlib.collections.PathCollection at 0x457628250>"
      ]
     },
     "execution_count": 108,
     "metadata": {},
     "output_type": "execute_result"
    },
    {
     "data": {
      "image/png": "[encoded data removed]",
      "text/plain": [
       "<Figure size 432x288 with 1 Axes>"
      ]
     },
     "metadata": {
      "needs_background": "light"
     },
     "output_type": "display_data"
    }
   ],
   "source": [
    "# create a scatterplot of sqft and tax_value\n",
    "plt.scatter(train.sqft, y=train.tax_value)\n",
    "# draw the regression line for the model predictions\n",
    "plt.plot(train.sqft, train.yhat, color='red')\n",
    "# create a scatterplot of the baseline residual error\n",
    "plt.scatter(train.sqft, train.residual_baseline, color='purple')\n",
    "# create a scatterplot of the model residual error\n",
    "plt.scatter(train.sqft, train.residual, color='pink')"
   ]
  },
  {
   "cell_type": "code",
   "execution_count": 352,
   "id": "67f11cc8",
   "metadata": {},
   "outputs": [
    {
     "data": {
      "text/plain": [
       "0.09545191652772544"
      ]
     },
     "execution_count": 352,
     "metadata": {},
     "output_type": "execute_result"
    }
   ],
   "source": [
    "# calculate the r2 score for the model using sklearn\n",
    "r2_score(train.tax_value, train.yhat)"
   ]
  },
  {
   "cell_type": "code",
   "execution_count": 353,
   "id": "6a8e705d",
   "metadata": {},
   "outputs": [],
   "source": [
    "# assign values for TSS and ESS in order to manually calculate the r2\n",
    "TSS = SSE_baseline\n",
    "ESS = TSS - SSE"
   ]
  },
  {
   "cell_type": "code",
   "execution_count": 354,
   "id": "50e7052a",
   "metadata": {},
   "outputs": [
    {
     "data": {
      "text/plain": [
       "0.09545191652772547"
      ]
     },
     "execution_count": 354,
     "metadata": {},
     "output_type": "execute_result"
    }
   ],
   "source": [
    "# manually calculate the r2\n",
    "R2 = ESS/TSS\n",
    "R2"
   ]
  },
  {
   "cell_type": "markdown",
   "id": "ec4224e3",
   "metadata": {},
   "source": [
    "#### Use variables to use in place of columns for multiple feature selection and to use in functions later"
   ]
  },
  {
   "cell_type": "code",
   "execution_count": 355,
   "id": "e7c8e8d8",
   "metadata": {},
   "outputs": [],
   "source": [
    "y = train.tax_value\n",
    "cols = ['tax_amount']"
   ]
  },
  {
   "cell_type": "code",
   "execution_count": 356,
   "id": "9a67d813",
   "metadata": {},
   "outputs": [],
   "source": [
    "# make and fit the linear regression model using the selected features and target variable\n",
    "ols_model = LinearRegression().fit(train[cols], y)"
   ]
  },
  {
   "cell_type": "code",
   "execution_count": 357,
   "id": "231292a8",
   "metadata": {},
   "outputs": [],
   "source": [
    "# create a new column in train for the model predictions (yhat)\n",
    "train['yhat'] = ols_model.predict(train[cols])"
   ]
  },
  {
   "cell_type": "code",
   "execution_count": 358,
   "id": "f7374478",
   "metadata": {},
   "outputs": [],
   "source": [
    "# assign the target column of the train dataset to y\n",
    "y = train.tax_value\n",
    "# assign the model predictions column to yhat\n",
    "yhat = train.yhat\n",
    "# assign the baseline prediction to baseline\n",
    "baseline = train.baseline"
   ]
  },
  {
   "cell_type": "code",
   "execution_count": 359,
   "id": "05247b82",
   "metadata": {},
   "outputs": [],
   "source": [
    "# create a new column in train for the model residual values\n",
    "train['residual'] = yhat - y\n",
    "# create a new column in train for the baseline residual values\n",
    "train['residual_baseline'] = baseline - y"
   ]
  },
  {
   "cell_type": "code",
   "execution_count": 360,
   "id": "f26095e1",
   "metadata": {},
   "outputs": [],
   "source": [
    "# calculate the model's sum of squares error for the selected variables against the target variable\n",
    "SSE = mean_squared_error(y, yhat)*len(y)\n",
    "# calculate the baseline's sum of squares error for the selected variables against the target variable\n",
    "SSE_baseline = mean_squared_error(y, baseline)*len(y)\n",
    "# calculate the model mean squared error for the selected variables against the target variable\n",
    "MSE = mean_squared_error(y, yhat)\n",
    "# calculate the baseline mean squared error for the selected variables against the target variable\n",
    "MSE_baseline = mean_squared_error(y, baseline)\n",
    "# calculate the model root mean squared error for the selected variables against the target variable\n",
    "RMSE = sqrt(mean_squared_error(y, yhat))\n",
    "# calculate the baseline root mean squared error for the selected variables against the target variable\n",
    "RMSE_baseline = sqrt(mean_squared_error(y, baseline))"
   ]
  },
  {
   "cell_type": "code",
   "execution_count": 361,
   "id": "698da03a",
   "metadata": {},
   "outputs": [
    {
     "name": "stdout",
     "output_type": "stream",
     "text": [
      "  metric   model_error\n",
      "0    SSE  1.700157e+15\n",
      "1    MSE  1.701471e+09\n",
      "2   RMSE  4.124889e+04\n",
      "          metric   model_error\n",
      "0   SSE_baseline  2.231489e+16\n",
      "1   MSE_baseline  2.233213e+10\n",
      "2  RMSE_baseline  1.494394e+05\n"
     ]
    }
   ],
   "source": [
    "# create a dataframe for the model SSE, MSE, RMSE\n",
    "train_eval = pd.DataFrame(np.array(['SSE','MSE','RMSE']), columns=['metric'])\n",
    "# create a dataframe to show the baseline SSE, MSE, RMSE\n",
    "train_baseline_eval = pd.DataFrame(np.array(['SSE_baseline','MSE_baseline','RMSE_baseline']), columns=['metric'])\n",
    "# add a column to the train_eval dataframe for the values associated with each model metric\n",
    "train_eval['model_error'] = np.array([SSE, MSE, RMSE])\n",
    "# add a column to the train_baseline_eval for the values associated with each baseline metric\n",
    "train_baseline_eval['model_error'] = np.array([SSE_baseline, MSE_baseline, RMSE_baseline])\n",
    "# print the dataframes\n",
    "print(train_eval)\n",
    "print(train_baseline_eval)"
   ]
  },
  {
   "cell_type": "code",
   "execution_count": 364,
   "id": "5a81c343",
   "metadata": {},
   "outputs": [
    {
     "data": {
      "text/html": [
       "<div>\n",
       "<style scoped>\n",
       "    .dataframe tbody tr th:only-of-type {\n",
       "        vertical-align: middle;\n",
       "    }\n",
       "\n",
       "    .dataframe tbody tr th {\n",
       "        vertical-align: top;\n",
       "    }\n",
       "\n",
       "    .dataframe thead th {\n",
       "        text-align: right;\n",
       "    }\n",
       "</style>\n",
       "<table border=\"1\" class=\"dataframe\">\n",
       "  <thead>\n",
       "    <tr style=\"text-align: right;\">\n",
       "      <th></th>\n",
       "      <th>metric</th>\n",
       "      <th>model_error</th>\n",
       "      <th>error_delta</th>\n",
       "    </tr>\n",
       "  </thead>\n",
       "  <tbody>\n",
       "    <tr>\n",
       "      <th>0</th>\n",
       "      <td>SSE</td>\n",
       "      <td>1.700157e+15</td>\n",
       "      <td>-2.061473e+16</td>\n",
       "    </tr>\n",
       "    <tr>\n",
       "      <th>1</th>\n",
       "      <td>MSE</td>\n",
       "      <td>1.701471e+09</td>\n",
       "      <td>-2.063066e+10</td>\n",
       "    </tr>\n",
       "    <tr>\n",
       "      <th>2</th>\n",
       "      <td>RMSE</td>\n",
       "      <td>4.124889e+04</td>\n",
       "      <td>-1.081905e+05</td>\n",
       "    </tr>\n",
       "  </tbody>\n",
       "</table>\n",
       "</div>"
      ],
      "text/plain": [
       "  metric   model_error   error_delta\n",
       "0    SSE  1.700157e+15 -2.061473e+16\n",
       "1    MSE  1.701471e+09 -2.063066e+10\n",
       "2   RMSE  4.124889e+04 -1.081905e+05"
      ]
     },
     "execution_count": 364,
     "metadata": {},
     "output_type": "execute_result"
    }
   ],
   "source": [
    "# create a new column in train_eval that contains the error delta for the model\n",
    "train_eval['error_delta'] = train_eval.model_error - train_baseline_eval.model_error\n",
    "train_eval"
   ]
  },
  {
   "cell_type": "code",
   "execution_count": 363,
   "id": "cee49e1b",
   "metadata": {},
   "outputs": [
    {
     "data": {
      "text/plain": [
       "0.9238106253203444"
      ]
     },
     "execution_count": 363,
     "metadata": {},
     "output_type": "execute_result"
    }
   ],
   "source": [
    "# calculate the r2 score for the model using sklearn\n",
    "r2_score(y, yhat)"
   ]
  },
  {
   "cell_type": "code",
   "execution_count": 379,
   "id": "c8375520",
   "metadata": {},
   "outputs": [
    {
     "data": {
      "text/plain": [
       "<AxesSubplot:xlabel='tax_value', ylabel='residual'>"
      ]
     },
     "execution_count": 379,
     "metadata": {},
     "output_type": "execute_result"
    },
    {
     "data": {
      "image/png": "[encoded data removed]",
      "text/plain": [
       "<Figure size 432x288 with 1 Axes>"
      ]
     },
     "metadata": {
      "needs_background": "light"
     },
     "output_type": "display_data"
    }
   ],
   "source": [
    "sns.regplot(x=train.tax_value, y='residual', data=train, color='yellow')"
   ]
  },
  {
   "cell_type": "code",
   "execution_count": null,
   "id": "76a5526d",
   "metadata": {},
   "outputs": [],
   "source": []
  },
  {
   "cell_type": "markdown",
   "id": "1e9d0ff3",
   "metadata": {},
   "source": [
    "#### Create functions for printing regression errors, baseline mean errors, and better than baseline evaluation"
   ]
  },
  {
   "cell_type": "code",
   "execution_count": 375,
   "id": "36645bc4",
   "metadata": {},
   "outputs": [],
   "source": [
    "# create a function to print the regression errors for the model\n",
    "def regression_errors(y, yhat):\n",
    "    '''This function takes in two arguments, a previously assigned target variable (y) and the model predictions \n",
    "    (yhat). The function calculates the sum of squares error, explained sum of squares, total sum of squares,\n",
    "    mean squared error, and root mean squared error. It prints strings for each value to the first decimal.'''\n",
    "    # calculate the sum of squares error from the selected variables\n",
    "    SSE = mean_squared_error(y, yhat)*len(y)\n",
    "    # calculate the explained sum of squares from the predictions and the baseline\n",
    "    ESS = sum((yhat - y.mean())**2)\n",
    "    # calculate the total sum of squares\n",
    "    TSS = ESS + SSE\n",
    "    # calculate the mean squared error\n",
    "    MSE = mean_squared_error(y, yhat)\n",
    "    # calculate the root mean squared error\n",
    "    RMSE = sqrt(mean_squared_error(y, yhat))\n",
    "    # print the calculated values for each\n",
    "    print(f'Model SSE is: {\"{:.1f}\".format(SSE)}')\n",
    "    print(f'Model ESS is: {\"{:.1f}\".format(ESS)}')\n",
    "    print(f'Model TSS is: {\"{:.1f}\".format(TSS)}')\n",
    "    print(f'Model MSE is: {\"{:.1f}\".format(MSE)}')\n",
    "    print(f'Model RMSE is: {\"{:.1f}\".format(RMSE)}')"
   ]
  },
  {
   "cell_type": "code",
   "execution_count": 376,
   "id": "9c9fd5cd",
   "metadata": {},
   "outputs": [
    {
     "name": "stdout",
     "output_type": "stream",
     "text": [
      "Model SSE is: 1700157291353692.0\n",
      "Model ESS is: 20614729771339368.0\n",
      "Model TSS is: 22314887062693060.0\n",
      "Model MSE is: 1701470826.8\n",
      "Model RMSE is: 41248.9\n"
     ]
    }
   ],
   "source": [
    "regression_errors(y, yhat)"
   ]
  },
  {
   "cell_type": "code",
   "execution_count": 216,
   "id": "a89de8d9",
   "metadata": {},
   "outputs": [],
   "source": [
    "# create a function to print the baseline mean errors\n",
    "def baseline_mean_errors(y):\n",
    "    '''This function takes in a single argument, y (the target variable) and prints the sum of squares\n",
    "    error, mean squared error, and root mean squared error for baseline.'''\n",
    "    # calculate the baseline sum of squares error\n",
    "    SSE_baseline = mean_squared_error(y, baseline)*len(y)\n",
    "    # calculate the baseline mean squared error\n",
    "    MSE_baseline = mean_squared_error(y, baseline)\n",
    "    # calculate the baseline root mean squared error\n",
    "    RMSE_baseline = sqrt(mean_squared_error(y, baseline))\n",
    "    # print the calculated values for each baseline error\n",
    "    print(f'SSE baseline: {\"{:.1f}\".format(SSE_baseline)}')\n",
    "    print(f'MSE baseline: {\"{:.1f}\".format(MSE_baseline)}')\n",
    "    print(f'RMSE baseline: {\"{:.1f}\".format(RMSE_baseline)}')"
   ]
  },
  {
   "cell_type": "code",
   "execution_count": 217,
   "id": "bf76d9c4",
   "metadata": {},
   "outputs": [
    {
     "name": "stdout",
     "output_type": "stream",
     "text": [
      "SSE baseline: 22314887062692692.0\n",
      "MSE baseline: 22332127465.1\n",
      "RMSE baseline: 149439.4\n"
     ]
    }
   ],
   "source": [
    "baseline_mean_errors(y)"
   ]
  },
  {
   "cell_type": "code",
   "execution_count": 377,
   "id": "4c25316d",
   "metadata": {},
   "outputs": [],
   "source": [
    "# create a function to determine if the model performs better than baseline\n",
    "def better_than_baseline(y, yhat):\n",
    "    '''This function takes in two arguments, y (target variable) and yhat (model predictions) and calculates the \n",
    "    model SSE, MSE, and RMSE against the baseline. The function prints three strings, one for each result, with a\n",
    "    boolean for whether or not the model value is better than baseline value.'''\n",
    "    SSE = mean_squared_error(y, yhat)*len(y)\n",
    "    SSE_baseline = mean_squared_error(y, baseline)*len(y)\n",
    "    MSE = mean_squared_error(y, yhat)\n",
    "    MSE_baseline = mean_squared_error(y, baseline)\n",
    "    RMSE = sqrt(mean_squared_error(y, yhat))\n",
    "    RMSE_baseline = sqrt(mean_squared_error(y, baseline))\n",
    "    \n",
    "    print(f'Model SSE is better than SSE baseline: {SSE < SSE_baseline}')\n",
    "    print(f'Model MSE is better than MSE baseline: {MSE < MSE_baseline}')\n",
    "    print(f'Model RMSE is better than RMSE baseline: {RMSE < RMSE_baseline}')"
   ]
  },
  {
   "cell_type": "code",
   "execution_count": 378,
   "id": "eb50d173",
   "metadata": {},
   "outputs": [
    {
     "name": "stdout",
     "output_type": "stream",
     "text": [
      "Model SSE is better than SSE baseline: True\n",
      "Model MSE is better than MSE baseline: True\n",
      "Model RMSE is better than RMSE baseline: True\n"
     ]
    }
   ],
   "source": [
    "better_than_baseline(y, yhat)"
   ]
  },
  {
   "cell_type": "markdown",
   "id": "7e5cb284",
   "metadata": {},
   "source": [
    "#### Select new features and scale prior to creating the model"
   ]
  },
  {
   "cell_type": "code",
   "execution_count": 252,
   "id": "e212e22a",
   "metadata": {},
   "outputs": [],
   "source": [
    "# assign features to a variable\n",
    "cols = ['tax_amount', 'bathrooms', 'year']\n",
    "# assign features to X for split datasets to use in fit, transformation, and modeling\n",
    "X_train = train[cols]\n",
    "X_validate = validate[cols]\n",
    "X_test = test[cols]\n",
    "y = train.tax_value"
   ]
  },
  {
   "cell_type": "code",
   "execution_count": 253,
   "id": "0da0de2b",
   "metadata": {},
   "outputs": [],
   "source": [
    "def standard_scaler():\n",
    "    '''This function applies the .StandardScaler method from sklearn to previously assigned\n",
    "    X_train, X_validate, and X_test variables and returns the scaled versions of each variable.'''\n",
    "    # make the scaler\n",
    "    scaler = StandardScaler()\n",
    "    # fit and transform the X_train data\n",
    "    X_train_standard = pd.DataFrame(scaler.fit_transform(X_train))\n",
    "    # transform the X_validate data\n",
    "    X_validate_standard = pd.DataFrame(scaler.transform(X_validate))\n",
    "    # transform the X_test data\n",
    "    X_test_standard = pd.DataFrame(scaler.transform(X_test))\n",
    "    # return the scaled data for each renamed variable\n",
    "    return X_train_standard, X_validate_standard, X_test_standard"
   ]
  },
  {
   "cell_type": "code",
   "execution_count": 254,
   "id": "793e34a3",
   "metadata": {},
   "outputs": [],
   "source": [
    "# assign the scaled data from standard scaler function to variables\n",
    "X_train_standard, X_validate_standard, X_test_standard = standard_scaler()"
   ]
  },
  {
   "cell_type": "code",
   "execution_count": 255,
   "id": "d2150bd7",
   "metadata": {},
   "outputs": [],
   "source": [
    "# fit X_train to the ols model\n",
    "ols_model = LinearRegression().fit(X_train_standard, train.tax_value)"
   ]
  },
  {
   "cell_type": "code",
   "execution_count": 256,
   "id": "aa3b6e7c",
   "metadata": {},
   "outputs": [],
   "source": [
    "# create a new column for the model predictions (yhat)\n",
    "train['yhat'] = ols_model.predict(X_train_standard)"
   ]
  },
  {
   "cell_type": "code",
   "execution_count": 257,
   "id": "14822c2d",
   "metadata": {},
   "outputs": [],
   "source": [
    "# assign yhat as a variable for function arguments\n",
    "yhat = train.yhat"
   ]
  },
  {
   "cell_type": "code",
   "execution_count": 258,
   "id": "87e4c5b8",
   "metadata": {},
   "outputs": [],
   "source": [
    "# create column for model residual error\n",
    "train['residual'] = train.yhat - y\n",
    "# create column for baseline residual error\n",
    "train['residual_baseline'] = train.baseline - y"
   ]
  },
  {
   "cell_type": "code",
   "execution_count": 259,
   "id": "23aab202",
   "metadata": {},
   "outputs": [
    {
     "name": "stdout",
     "output_type": "stream",
     "text": [
      "Model SSE is: 1697678401934155.5\n",
      "Model ESS is: 20617208660759688.0\n",
      "Model TSS is: 22314887062693844.0\n",
      "Model MSE is: 1698990022.2\n",
      "Model RMSE is: 41218.8\n"
     ]
    }
   ],
   "source": [
    "# print regression errors for the model\n",
    "regression_errors(y, yhat)"
   ]
  },
  {
   "cell_type": "code",
   "execution_count": 260,
   "id": "f3328280",
   "metadata": {},
   "outputs": [
    {
     "name": "stdout",
     "output_type": "stream",
     "text": [
      "SSE baseline: 22314887062692692.0\n",
      "MSE baseline: 22332127465.1\n",
      "RMSE baseline: 149439.4\n"
     ]
    }
   ],
   "source": [
    "# print the baseline mean errors\n",
    "baseline_mean_errors(y)"
   ]
  },
  {
   "cell_type": "code",
   "execution_count": 261,
   "id": "8c4c2d50",
   "metadata": {},
   "outputs": [
    {
     "name": "stdout",
     "output_type": "stream",
     "text": [
      "Model SSE is better than SSE baseline: True\n",
      "Model MSE is better than MSE baseline: True\n",
      "Model RMSE is better than RMSE baseline: True\n"
     ]
    }
   ],
   "source": [
    "# evaluate the model against baseline predictions\n",
    "better_than_baseline(y, yhat)"
   ]
  },
  {
   "cell_type": "code",
   "execution_count": 262,
   "id": "614feebd",
   "metadata": {},
   "outputs": [
    {
     "data": {
      "text/plain": [
       "0.9239217121213922"
      ]
     },
     "execution_count": 262,
     "metadata": {},
     "output_type": "execute_result"
    }
   ],
   "source": [
    "# calculate r2 score for the model\n",
    "r2_score(y, yhat)"
   ]
  },
  {
   "cell_type": "code",
   "execution_count": 296,
   "id": "d2adf753",
   "metadata": {},
   "outputs": [],
   "source": [
    "# reassign variables to test a new model\n",
    "cols = ['bedrooms', 'bathrooms', 'sqft', 'year', 'fips']\n",
    "X_train = train[cols]\n",
    "X_validate = validate[cols]\n",
    "X_test = test[cols]"
   ]
  },
  {
   "cell_type": "code",
   "execution_count": 297,
   "id": "35514099",
   "metadata": {},
   "outputs": [],
   "source": [
    "def minmax_scaler():\n",
    "    '''This function applies the .MinMaxScaler method from sklearn to previously assigned\n",
    "    X_train, X_validate, and X_test variables and returns the scaled versions of each variable.'''\n",
    "    # make the scaler\n",
    "    scaler = MinMaxScaler()\n",
    "    # fit and transform the X_train data\n",
    "    X_train_minmax = pd.DataFrame(scaler.fit_transform(X_train))\n",
    "    # transform the X_validate data\n",
    "    X_validate_minmax = pd.DataFrame(scaler.transform(X_validate))\n",
    "    # transform the X_test data\n",
    "    X_test_minmax = pd.DataFrame(scaler.transform(X_test))\n",
    "    # return the scaled data for each renamed variable\n",
    "    return X_train_minmax, X_validate_minmax, X_test_minmax\n"
   ]
  },
  {
   "cell_type": "code",
   "execution_count": 298,
   "id": "5212ae11",
   "metadata": {},
   "outputs": [],
   "source": [
    "# assign the scaled data from minmax scaler function to variables\n",
    "X_train_scaled, X_validate_scaled, X_test_scaled = minmax_scaler()"
   ]
  },
  {
   "cell_type": "code",
   "execution_count": 299,
   "id": "e2a49379",
   "metadata": {},
   "outputs": [],
   "source": [
    "# fit the model on scaled train variables and target\n",
    "ols_model = LinearRegression().fit(X_train_scaled, train.tax_value)"
   ]
  },
  {
   "cell_type": "code",
   "execution_count": 300,
   "id": "b95e1cac",
   "metadata": {},
   "outputs": [],
   "source": [
    "# create a new column for model predictions\n",
    "train['yhat'] = ols_model.predict(X_train_scaled)"
   ]
  },
  {
   "cell_type": "code",
   "execution_count": 301,
   "id": "cf272faf",
   "metadata": {},
   "outputs": [],
   "source": [
    "# assign y and yhat for use as arguments in functions\n",
    "y = train.tax_value\n",
    "yhat = train.yhat"
   ]
  },
  {
   "cell_type": "code",
   "execution_count": 302,
   "id": "8e718f83",
   "metadata": {},
   "outputs": [],
   "source": [
    "# create column for model residual error\n",
    "train['residual'] = train.yhat - train.tax_value\n",
    "# create column for baseline residual error\n",
    "train['residual_baseline'] = train.baseline - train.tax_value"
   ]
  },
  {
   "cell_type": "code",
   "execution_count": 303,
   "id": "16b62722",
   "metadata": {},
   "outputs": [
    {
     "name": "stdout",
     "output_type": "stream",
     "text": [
      "Model SSE is: 19775651854185128.0\n",
      "Model ESS is: 2539235208495694.0\n",
      "Model TSS is: 22314887062680824.0\n",
      "Model MSE is: 19790930452.5\n",
      "Model RMSE is: 140680.2\n"
     ]
    }
   ],
   "source": [
    "# print model regression errors\n",
    "regression_errors(y, yhat)"
   ]
  },
  {
   "cell_type": "code",
   "execution_count": 304,
   "id": "bc72486a",
   "metadata": {},
   "outputs": [
    {
     "name": "stdout",
     "output_type": "stream",
     "text": [
      "SSE baseline: 22314887062692692.0\n",
      "MSE baseline: 22332127465.1\n",
      "RMSE baseline: 149439.4\n"
     ]
    }
   ],
   "source": [
    "# print baseline mean errors\n",
    "baseline_mean_errors(y)"
   ]
  },
  {
   "cell_type": "code",
   "execution_count": 305,
   "id": "a01f5e85",
   "metadata": {},
   "outputs": [
    {
     "name": "stdout",
     "output_type": "stream",
     "text": [
      "Model SSE is better than SSE baseline: True\n",
      "Model MSE is better than MSE baseline: True\n",
      "Model RMSE is better than RMSE baseline: True\n"
     ]
    }
   ],
   "source": [
    "# evaluate the model against baseline predictions\n",
    "better_than_baseline(y, yhat)"
   ]
  },
  {
   "cell_type": "code",
   "execution_count": 306,
   "id": "ffb98e9c",
   "metadata": {},
   "outputs": [
    {
     "data": {
      "text/plain": [
       "0.1137910849099838"
      ]
     },
     "execution_count": 306,
     "metadata": {},
     "output_type": "execute_result"
    }
   ],
   "source": [
    "# calculate the r2 score for the model\n",
    "r2_score(y, yhat)"
   ]
  },
  {
   "cell_type": "code",
   "execution_count": 380,
   "id": "c109c1d4",
   "metadata": {},
   "outputs": [],
   "source": [
    "def plot_residuals(y, yhat):\n",
    "    '''This function takes in two arguments, y (target variable) and yhat (model predictions) and returns a \n",
    "    scatterplot of the residuals of the target variable.'''\n",
    "    residuals = y - yhat\n",
    "    plt.scatterplot(x=y, y=residuals)\n",
    "    plt.xlabel('Home Value')\n",
    "    plt.ylabel('Residuals')\n",
    "    plt.title('Residuals for Home Value')\n",
    "    plt.show()"
   ]
  },
  {
   "cell_type": "code",
   "execution_count": null,
   "id": "9bbc8828",
   "metadata": {},
   "outputs": [],
   "source": []
  }
 ],
 "metadata": {
  "kernelspec": {
   "display_name": "Python 3 (ipykernel)",
   "language": "python",
   "name": "python3"
  },
  "language_info": {
   "codemirror_mode": {
    "name": "ipython",
    "version": 3
   },
   "file_extension": ".py",
   "mimetype": "text/x-python",
   "name": "python",
   "nbconvert_exporter": "python",
   "pygments_lexer": "ipython3",
   "version": "3.9.12"
  }
 },
 "nbformat": 4,
 "nbformat_minor": 5
}
