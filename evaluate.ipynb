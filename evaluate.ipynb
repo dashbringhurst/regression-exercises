{
 "cells": [
  {
   "cell_type": "markdown",
   "id": "ac9a5970",
   "metadata": {},
   "source": [
    "Do you work for this exercise in either a jupyter notebook named evaluate within your regression-exercises repository. By the end of this exercise you will also create a python script named evaluate, so the overall deliverables for this exercise are the python script and jupyter notebook both with the name evaluate within your regression-exercises repo.\n",
    "\n",
    "Load your zillow dataset.\n",
    "\n",
    "Fit a linear regression model (ordinary least squares) and compute yhat, predictions of tax_value using only sqft.\n",
    "\n",
    "Here is some sample code to get you started:\n",
    "\n",
    "\n",
    "from sklearn.linear_model import LinearRegression\n",
    "\n",
    "#### assuming X and y are already defined\n",
    "\n",
    "model = LinearRegression().fit(X, y)\n",
    "predictions = model.predict(X)\n",
    "Modify and add to the code above as necessary for it to work with the zillow dataset.\n",
    "\n",
    "Plot the residuals for the linear regression model that you made.\n",
    "\n",
    "Calculate the sum of squared errors, explained sum of squares, total sum of squares, mean squared error, and root mean squared error for your model.\n",
    "\n",
    "Calculate the sum of squared errors, mean squared error, and root mean squared error for the baseline model (i.e. a model that always predicts the average taxvaluedollarcnt amount).\n",
    "\n",
    "Write python code that compares the sum of squared errors for your model against the sum of squared errors for the baseline model and outputs whether or not your model performs better than the baseline model.\n",
    "\n",
    "What is the amount of variance explained in your model?\n",
    "\n",
    "Is your model better than the baseline model?\n",
    "\n",
    "Create a file named evaluate.py that contains the following functions.\n",
    "\n",
    "plot_residuals(y, yhat): creates a residual plot\n",
    "\n",
    "regression_errors(y, yhat): returns the following values:\n",
    "\n",
    "sum of squared errors (SSE)\n",
    "\n",
    "explained sum of squares (ESS)\n",
    "\n",
    "total sum of squares (TSS)\n",
    "\n",
    "mean squared error (MSE)\n",
    "\n",
    "root mean squared error (RMSE)\n",
    "\n",
    "baseline_mean_errors(y): computes the SSE, MSE, and RMSE for the baseline model\n",
    "\n",
    "better_than_baseline(y, yhat): returns true if your model performs better than the baseline, otherwise false\n",
    "\n",
    "Bonus Exercises\n",
    "\n",
    "Load the tips dataset from either pydataset or seaborn. Fit a linear regression model (ordinary least squares) and compute yhat, predictions of tip using total_bill.\n",
    "\n",
    "Load the mpg dataset and fit a model that predicts highway mileage based on engine displacement. Take a look at all the regression evaluation metrics, and determine whether this model is better than the baseline model. Use the functions from your evaluate.py to help accomplish this."
   ]
  },
  {
   "cell_type": "code",
   "execution_count": 66,
   "id": "a1651ca2",
   "metadata": {},
   "outputs": [],
   "source": [
    "import pandas as pd\n",
    "import numpy as np\n",
    "import wrangle\n",
    "import explore\n",
    "import matplotlib.pyplot as plt\n",
    "import seaborn as sns\n",
    "from scipy import stats\n",
    "from math import sqrt\n",
    "from sklearn.preprocessing import MinMaxScaler, StandardScaler\n",
    "from sklearn.linear_model import LinearRegression\n",
    "from sklearn.feature_selection import f_regression \n",
    "from sklearn.metrics import mean_squared_error, r2_score, explained_variance_score"
   ]
  },
  {
   "cell_type": "code",
   "execution_count": 338,
   "id": "a6b8125f",
   "metadata": {},
   "outputs": [],
   "source": [
    "# load the zillow dataset and save to a variable\n",
    "df = wrangle.wrangle_zillow()"
   ]
  },
  {
   "cell_type": "code",
   "execution_count": 339,
   "id": "04adc7c5",
   "metadata": {},
   "outputs": [],
   "source": [
    "# split the zillow dataset into train, validate, test using wrangle.py function\n",
    "train, validate, test = wrangle.split_data(df)"
   ]
  },
  {
   "cell_type": "code",
   "execution_count": 340,
   "id": "74f76f24",
   "metadata": {},
   "outputs": [
    {
     "data": {
      "text/html": [
       "<div>\n",
       "<style scoped>\n",
       "    .dataframe tbody tr th:only-of-type {\n",
       "        vertical-align: middle;\n",
       "    }\n",
       "\n",
       "    .dataframe tbody tr th {\n",
       "        vertical-align: top;\n",
       "    }\n",
       "\n",
       "    .dataframe thead th {\n",
       "        text-align: right;\n",
       "    }\n",
       "</style>\n",
       "<table border=\"1\" class=\"dataframe\">\n",
       "  <thead>\n",
       "    <tr style=\"text-align: right;\">\n",
       "      <th></th>\n",
       "      <th>bedrooms</th>\n",
       "      <th>bathrooms</th>\n",
       "      <th>sqft</th>\n",
       "      <th>tax_value</th>\n",
       "      <th>year</th>\n",
       "      <th>tax_amount</th>\n",
       "      <th>fips</th>\n",
       "    </tr>\n",
       "  </thead>\n",
       "  <tbody>\n",
       "    <tr>\n",
       "      <th>864307</th>\n",
       "      <td>4</td>\n",
       "      <td>3.0</td>\n",
       "      <td>2164.0</td>\n",
       "      <td>514069.0</td>\n",
       "      <td>1970</td>\n",
       "      <td>6792.81</td>\n",
       "      <td>6037</td>\n",
       "    </tr>\n",
       "    <tr>\n",
       "      <th>1433067</th>\n",
       "      <td>5</td>\n",
       "      <td>5.0</td>\n",
       "      <td>3582.0</td>\n",
       "      <td>326561.0</td>\n",
       "      <td>1990</td>\n",
       "      <td>4164.22</td>\n",
       "      <td>6037</td>\n",
       "    </tr>\n",
       "    <tr>\n",
       "      <th>1170762</th>\n",
       "      <td>3</td>\n",
       "      <td>2.5</td>\n",
       "      <td>1397.0</td>\n",
       "      <td>266050.0</td>\n",
       "      <td>1989</td>\n",
       "      <td>3735.74</td>\n",
       "      <td>6059</td>\n",
       "    </tr>\n",
       "    <tr>\n",
       "      <th>1694318</th>\n",
       "      <td>4</td>\n",
       "      <td>3.0</td>\n",
       "      <td>2208.0</td>\n",
       "      <td>105567.0</td>\n",
       "      <td>1926</td>\n",
       "      <td>1405.65</td>\n",
       "      <td>6037</td>\n",
       "    </tr>\n",
       "    <tr>\n",
       "      <th>149423</th>\n",
       "      <td>4</td>\n",
       "      <td>2.0</td>\n",
       "      <td>1631.0</td>\n",
       "      <td>356406.0</td>\n",
       "      <td>1969</td>\n",
       "      <td>4323.56</td>\n",
       "      <td>6059</td>\n",
       "    </tr>\n",
       "  </tbody>\n",
       "</table>\n",
       "</div>"
      ],
      "text/plain": [
       "         bedrooms  bathrooms    sqft  tax_value  year  tax_amount  fips\n",
       "864307          4        3.0  2164.0   514069.0  1970     6792.81  6037\n",
       "1433067         5        5.0  3582.0   326561.0  1990     4164.22  6037\n",
       "1170762         3        2.5  1397.0   266050.0  1989     3735.74  6059\n",
       "1694318         4        3.0  2208.0   105567.0  1926     1405.65  6037\n",
       "149423          4        2.0  1631.0   356406.0  1969     4323.56  6059"
      ]
     },
     "execution_count": 340,
     "metadata": {},
     "output_type": "execute_result"
    }
   ],
   "source": [
    "train.head()"
   ]
  },
  {
   "cell_type": "code",
   "execution_count": 341,
   "id": "34d4d991",
   "metadata": {},
   "outputs": [],
   "source": [
    "# set the baseline prediction to the variable baseline (mean of target)\n",
    "baseline = train.tax_value.mean()"
   ]
  },
  {
   "cell_type": "code",
   "execution_count": 342,
   "id": "ad3adac5",
   "metadata": {},
   "outputs": [],
   "source": [
    "# create a new column with the baseline predictions\n",
    "train['baseline'] = baseline"
   ]
  },
  {
   "cell_type": "code",
   "execution_count": 343,
   "id": "e2b48f32",
   "metadata": {},
   "outputs": [
    {
     "data": {
      "text/html": [
       "<div>\n",
       "<style scoped>\n",
       "    .dataframe tbody tr th:only-of-type {\n",
       "        vertical-align: middle;\n",
       "    }\n",
       "\n",
       "    .dataframe tbody tr th {\n",
       "        vertical-align: top;\n",
       "    }\n",
       "\n",
       "    .dataframe thead th {\n",
       "        text-align: right;\n",
       "    }\n",
       "</style>\n",
       "<table border=\"1\" class=\"dataframe\">\n",
       "  <thead>\n",
       "    <tr style=\"text-align: right;\">\n",
       "      <th></th>\n",
       "      <th>bedrooms</th>\n",
       "      <th>bathrooms</th>\n",
       "      <th>sqft</th>\n",
       "      <th>tax_value</th>\n",
       "      <th>year</th>\n",
       "      <th>tax_amount</th>\n",
       "      <th>fips</th>\n",
       "      <th>baseline</th>\n",
       "    </tr>\n",
       "  </thead>\n",
       "  <tbody>\n",
       "    <tr>\n",
       "      <th>864307</th>\n",
       "      <td>4</td>\n",
       "      <td>3.0</td>\n",
       "      <td>2164.0</td>\n",
       "      <td>514069.0</td>\n",
       "      <td>1970</td>\n",
       "      <td>6792.81</td>\n",
       "      <td>6037</td>\n",
       "      <td>280186.669215</td>\n",
       "    </tr>\n",
       "    <tr>\n",
       "      <th>1433067</th>\n",
       "      <td>5</td>\n",
       "      <td>5.0</td>\n",
       "      <td>3582.0</td>\n",
       "      <td>326561.0</td>\n",
       "      <td>1990</td>\n",
       "      <td>4164.22</td>\n",
       "      <td>6037</td>\n",
       "      <td>280186.669215</td>\n",
       "    </tr>\n",
       "    <tr>\n",
       "      <th>1170762</th>\n",
       "      <td>3</td>\n",
       "      <td>2.5</td>\n",
       "      <td>1397.0</td>\n",
       "      <td>266050.0</td>\n",
       "      <td>1989</td>\n",
       "      <td>3735.74</td>\n",
       "      <td>6059</td>\n",
       "      <td>280186.669215</td>\n",
       "    </tr>\n",
       "    <tr>\n",
       "      <th>1694318</th>\n",
       "      <td>4</td>\n",
       "      <td>3.0</td>\n",
       "      <td>2208.0</td>\n",
       "      <td>105567.0</td>\n",
       "      <td>1926</td>\n",
       "      <td>1405.65</td>\n",
       "      <td>6037</td>\n",
       "      <td>280186.669215</td>\n",
       "    </tr>\n",
       "    <tr>\n",
       "      <th>149423</th>\n",
       "      <td>4</td>\n",
       "      <td>2.0</td>\n",
       "      <td>1631.0</td>\n",
       "      <td>356406.0</td>\n",
       "      <td>1969</td>\n",
       "      <td>4323.56</td>\n",
       "      <td>6059</td>\n",
       "      <td>280186.669215</td>\n",
       "    </tr>\n",
       "  </tbody>\n",
       "</table>\n",
       "</div>"
      ],
      "text/plain": [
       "         bedrooms  bathrooms    sqft  tax_value  year  tax_amount  fips  \\\n",
       "864307          4        3.0  2164.0   514069.0  1970     6792.81  6037   \n",
       "1433067         5        5.0  3582.0   326561.0  1990     4164.22  6037   \n",
       "1170762         3        2.5  1397.0   266050.0  1989     3735.74  6059   \n",
       "1694318         4        3.0  2208.0   105567.0  1926     1405.65  6037   \n",
       "149423          4        2.0  1631.0   356406.0  1969     4323.56  6059   \n",
       "\n",
       "              baseline  \n",
       "864307   280186.669215  \n",
       "1433067  280186.669215  \n",
       "1170762  280186.669215  \n",
       "1694318  280186.669215  \n",
       "149423   280186.669215  "
      ]
     },
     "execution_count": 343,
     "metadata": {},
     "output_type": "execute_result"
    }
   ],
   "source": [
    "train.head()"
   ]
  },
  {
   "cell_type": "code",
   "execution_count": 344,
   "id": "ba641806",
   "metadata": {},
   "outputs": [],
   "source": [
    "# make and fit the linear regression model to the selected variables in train and the target variable\n",
    "ols_model = LinearRegression().fit(train[['sqft']], train.tax_value)"
   ]
  },
  {
   "cell_type": "code",
   "execution_count": 345,
   "id": "7149d078",
   "metadata": {},
   "outputs": [],
   "source": [
    "# create a new column in the dataframe for the model predictions (yhat)\n",
    "train['yhat'] = ols_model.predict(train[['sqft']])"
   ]
  },
  {
   "cell_type": "code",
   "execution_count": 346,
   "id": "fc85e537",
   "metadata": {},
   "outputs": [
    {
     "data": {
      "text/html": [
       "<div>\n",
       "<style scoped>\n",
       "    .dataframe tbody tr th:only-of-type {\n",
       "        vertical-align: middle;\n",
       "    }\n",
       "\n",
       "    .dataframe tbody tr th {\n",
       "        vertical-align: top;\n",
       "    }\n",
       "\n",
       "    .dataframe thead th {\n",
       "        text-align: right;\n",
       "    }\n",
       "</style>\n",
       "<table border=\"1\" class=\"dataframe\">\n",
       "  <thead>\n",
       "    <tr style=\"text-align: right;\">\n",
       "      <th></th>\n",
       "      <th>bedrooms</th>\n",
       "      <th>bathrooms</th>\n",
       "      <th>sqft</th>\n",
       "      <th>tax_value</th>\n",
       "      <th>year</th>\n",
       "      <th>tax_amount</th>\n",
       "      <th>fips</th>\n",
       "      <th>baseline</th>\n",
       "      <th>yhat</th>\n",
       "    </tr>\n",
       "  </thead>\n",
       "  <tbody>\n",
       "    <tr>\n",
       "      <th>864307</th>\n",
       "      <td>4</td>\n",
       "      <td>3.0</td>\n",
       "      <td>2164.0</td>\n",
       "      <td>514069.0</td>\n",
       "      <td>1970</td>\n",
       "      <td>6792.81</td>\n",
       "      <td>6037</td>\n",
       "      <td>280186.669215</td>\n",
       "      <td>324283.180032</td>\n",
       "    </tr>\n",
       "    <tr>\n",
       "      <th>1433067</th>\n",
       "      <td>5</td>\n",
       "      <td>5.0</td>\n",
       "      <td>3582.0</td>\n",
       "      <td>326561.0</td>\n",
       "      <td>1990</td>\n",
       "      <td>4164.22</td>\n",
       "      <td>6037</td>\n",
       "      <td>280186.669215</td>\n",
       "      <td>438906.594061</td>\n",
       "    </tr>\n",
       "    <tr>\n",
       "      <th>1170762</th>\n",
       "      <td>3</td>\n",
       "      <td>2.5</td>\n",
       "      <td>1397.0</td>\n",
       "      <td>266050.0</td>\n",
       "      <td>1989</td>\n",
       "      <td>3735.74</td>\n",
       "      <td>6059</td>\n",
       "      <td>280186.669215</td>\n",
       "      <td>262283.068212</td>\n",
       "    </tr>\n",
       "    <tr>\n",
       "      <th>1694318</th>\n",
       "      <td>4</td>\n",
       "      <td>3.0</td>\n",
       "      <td>2208.0</td>\n",
       "      <td>105567.0</td>\n",
       "      <td>1926</td>\n",
       "      <td>1405.65</td>\n",
       "      <td>6037</td>\n",
       "      <td>280186.669215</td>\n",
       "      <td>327839.900918</td>\n",
       "    </tr>\n",
       "    <tr>\n",
       "      <th>149423</th>\n",
       "      <td>4</td>\n",
       "      <td>2.0</td>\n",
       "      <td>1631.0</td>\n",
       "      <td>356406.0</td>\n",
       "      <td>1969</td>\n",
       "      <td>4323.56</td>\n",
       "      <td>6059</td>\n",
       "      <td>280186.669215</td>\n",
       "      <td>281198.356564</td>\n",
       "    </tr>\n",
       "  </tbody>\n",
       "</table>\n",
       "</div>"
      ],
      "text/plain": [
       "         bedrooms  bathrooms    sqft  tax_value  year  tax_amount  fips  \\\n",
       "864307          4        3.0  2164.0   514069.0  1970     6792.81  6037   \n",
       "1433067         5        5.0  3582.0   326561.0  1990     4164.22  6037   \n",
       "1170762         3        2.5  1397.0   266050.0  1989     3735.74  6059   \n",
       "1694318         4        3.0  2208.0   105567.0  1926     1405.65  6037   \n",
       "149423          4        2.0  1631.0   356406.0  1969     4323.56  6059   \n",
       "\n",
       "              baseline           yhat  \n",
       "864307   280186.669215  324283.180032  \n",
       "1433067  280186.669215  438906.594061  \n",
       "1170762  280186.669215  262283.068212  \n",
       "1694318  280186.669215  327839.900918  \n",
       "149423   280186.669215  281198.356564  "
      ]
     },
     "execution_count": 346,
     "metadata": {},
     "output_type": "execute_result"
    }
   ],
   "source": [
    "train.head()"
   ]
  },
  {
   "cell_type": "code",
   "execution_count": 347,
   "id": "92c2ac4e",
   "metadata": {},
   "outputs": [],
   "source": [
    "# create a new column for the model residual error\n",
    "train['residual'] = train.yhat - train.tax_value\n",
    "# create a new column for the baseline residual error\n",
    "train['residual_baseline'] = train.baseline - train.tax_value"
   ]
  },
  {
   "cell_type": "code",
   "execution_count": 348,
   "id": "b2ee7a51",
   "metadata": {},
   "outputs": [
    {
     "data": {
      "text/html": [
       "<div>\n",
       "<style scoped>\n",
       "    .dataframe tbody tr th:only-of-type {\n",
       "        vertical-align: middle;\n",
       "    }\n",
       "\n",
       "    .dataframe tbody tr th {\n",
       "        vertical-align: top;\n",
       "    }\n",
       "\n",
       "    .dataframe thead th {\n",
       "        text-align: right;\n",
       "    }\n",
       "</style>\n",
       "<table border=\"1\" class=\"dataframe\">\n",
       "  <thead>\n",
       "    <tr style=\"text-align: right;\">\n",
       "      <th></th>\n",
       "      <th>bedrooms</th>\n",
       "      <th>bathrooms</th>\n",
       "      <th>sqft</th>\n",
       "      <th>tax_value</th>\n",
       "      <th>year</th>\n",
       "      <th>tax_amount</th>\n",
       "      <th>fips</th>\n",
       "      <th>baseline</th>\n",
       "      <th>yhat</th>\n",
       "      <th>residual</th>\n",
       "      <th>residual_baseline</th>\n",
       "    </tr>\n",
       "  </thead>\n",
       "  <tbody>\n",
       "    <tr>\n",
       "      <th>864307</th>\n",
       "      <td>4</td>\n",
       "      <td>3.0</td>\n",
       "      <td>2164.0</td>\n",
       "      <td>514069.0</td>\n",
       "      <td>1970</td>\n",
       "      <td>6792.81</td>\n",
       "      <td>6037</td>\n",
       "      <td>280186.669215</td>\n",
       "      <td>324283.180032</td>\n",
       "      <td>-189785.819968</td>\n",
       "      <td>-233882.330785</td>\n",
       "    </tr>\n",
       "    <tr>\n",
       "      <th>1433067</th>\n",
       "      <td>5</td>\n",
       "      <td>5.0</td>\n",
       "      <td>3582.0</td>\n",
       "      <td>326561.0</td>\n",
       "      <td>1990</td>\n",
       "      <td>4164.22</td>\n",
       "      <td>6037</td>\n",
       "      <td>280186.669215</td>\n",
       "      <td>438906.594061</td>\n",
       "      <td>112345.594061</td>\n",
       "      <td>-46374.330785</td>\n",
       "    </tr>\n",
       "    <tr>\n",
       "      <th>1170762</th>\n",
       "      <td>3</td>\n",
       "      <td>2.5</td>\n",
       "      <td>1397.0</td>\n",
       "      <td>266050.0</td>\n",
       "      <td>1989</td>\n",
       "      <td>3735.74</td>\n",
       "      <td>6059</td>\n",
       "      <td>280186.669215</td>\n",
       "      <td>262283.068212</td>\n",
       "      <td>-3766.931788</td>\n",
       "      <td>14136.669215</td>\n",
       "    </tr>\n",
       "    <tr>\n",
       "      <th>1694318</th>\n",
       "      <td>4</td>\n",
       "      <td>3.0</td>\n",
       "      <td>2208.0</td>\n",
       "      <td>105567.0</td>\n",
       "      <td>1926</td>\n",
       "      <td>1405.65</td>\n",
       "      <td>6037</td>\n",
       "      <td>280186.669215</td>\n",
       "      <td>327839.900918</td>\n",
       "      <td>222272.900918</td>\n",
       "      <td>174619.669215</td>\n",
       "    </tr>\n",
       "    <tr>\n",
       "      <th>149423</th>\n",
       "      <td>4</td>\n",
       "      <td>2.0</td>\n",
       "      <td>1631.0</td>\n",
       "      <td>356406.0</td>\n",
       "      <td>1969</td>\n",
       "      <td>4323.56</td>\n",
       "      <td>6059</td>\n",
       "      <td>280186.669215</td>\n",
       "      <td>281198.356564</td>\n",
       "      <td>-75207.643436</td>\n",
       "      <td>-76219.330785</td>\n",
       "    </tr>\n",
       "  </tbody>\n",
       "</table>\n",
       "</div>"
      ],
      "text/plain": [
       "         bedrooms  bathrooms    sqft  tax_value  year  tax_amount  fips  \\\n",
       "864307          4        3.0  2164.0   514069.0  1970     6792.81  6037   \n",
       "1433067         5        5.0  3582.0   326561.0  1990     4164.22  6037   \n",
       "1170762         3        2.5  1397.0   266050.0  1989     3735.74  6059   \n",
       "1694318         4        3.0  2208.0   105567.0  1926     1405.65  6037   \n",
       "149423          4        2.0  1631.0   356406.0  1969     4323.56  6059   \n",
       "\n",
       "              baseline           yhat       residual  residual_baseline  \n",
       "864307   280186.669215  324283.180032 -189785.819968     -233882.330785  \n",
       "1433067  280186.669215  438906.594061  112345.594061      -46374.330785  \n",
       "1170762  280186.669215  262283.068212   -3766.931788       14136.669215  \n",
       "1694318  280186.669215  327839.900918  222272.900918      174619.669215  \n",
       "149423   280186.669215  281198.356564  -75207.643436      -76219.330785  "
      ]
     },
     "execution_count": 348,
     "metadata": {},
     "output_type": "execute_result"
    }
   ],
   "source": [
    "train.head()"
   ]
  },
  {
   "cell_type": "code",
   "execution_count": 349,
   "id": "a1fc682c",
   "metadata": {},
   "outputs": [],
   "source": [
    "# calculate the model's sum of squares error for the selected variables against the target variable\n",
    "SSE = mean_squared_error(train.tax_value, train.yhat)*len(train)\n",
    "# calculate the baseline's sum of squares error for the selected variables against the target variable\n",
    "SSE_baseline = mean_squared_error(train.tax_value, train.baseline)*len(train)\n",
    "# calculate the model mean squared error for the selected variables against the target variable\n",
    "MSE = mean_squared_error(train.tax_value, train.yhat)\n",
    "# calculate the baseline mean squared error for the selected variables against the target variable\n",
    "MSE_baseline = mean_squared_error(train.tax_value, train.baseline)\n",
    "# calculate the model root mean squared error for the selected variables against the target variable\n",
    "RMSE = sqrt(mean_squared_error(train.tax_value, train.yhat))\n",
    "# calculate the baseline root mean squared error for the selected variables against the target variable\n",
    "RMSE_baseline = sqrt(mean_squared_error(train.tax_value, train.baseline))"
   ]
  },
  {
   "cell_type": "code",
   "execution_count": 350,
   "id": "e78b16bb",
   "metadata": {},
   "outputs": [
    {
     "name": "stdout",
     "output_type": "stream",
     "text": [
      "  metric   model_error\n",
      "0    SSE  2.018489e+16\n",
      "1    MSE  2.020048e+10\n",
      "2   RMSE  1.421284e+05\n",
      "          metric   model_error\n",
      "0   SSE_baseline  2.231489e+16\n",
      "1   MSE_baseline  2.233213e+10\n",
      "2  RMSE_baseline  1.494394e+05\n"
     ]
    }
   ],
   "source": [
    "# create a dataframe for the model SSE, MSE, RMSE\n",
    "train_eval = pd.DataFrame(np.array(['SSE','MSE','RMSE']), columns=['metric'])\n",
    "# create a dataframe to show the baseline SSE, MSE, RMSE\n",
    "train_baseline_eval = pd.DataFrame(np.array(['SSE_baseline','MSE_baseline','RMSE_baseline']), columns=['metric'])\n",
    "# add a column to the train_eval dataframe for the values associated with each model metric\n",
    "train_eval['model_error'] = np.array([SSE, MSE, RMSE])\n",
    "# add a column to the train_baseline_eval for the values associated with each baseline metric\n",
    "train_baseline_eval['model_error'] = np.array([SSE_baseline, MSE_baseline, RMSE_baseline])\n",
    "# print the dataframes\n",
    "print(train_eval)\n",
    "print(train_baseline_eval)"
   ]
  },
  {
   "cell_type": "code",
   "execution_count": 351,
   "id": "287d99cb",
   "metadata": {},
   "outputs": [
    {
     "data": {
      "text/html": [
       "<div>\n",
       "<style scoped>\n",
       "    .dataframe tbody tr th:only-of-type {\n",
       "        vertical-align: middle;\n",
       "    }\n",
       "\n",
       "    .dataframe tbody tr th {\n",
       "        vertical-align: top;\n",
       "    }\n",
       "\n",
       "    .dataframe thead th {\n",
       "        text-align: right;\n",
       "    }\n",
       "</style>\n",
       "<table border=\"1\" class=\"dataframe\">\n",
       "  <thead>\n",
       "    <tr style=\"text-align: right;\">\n",
       "      <th></th>\n",
       "      <th>metric</th>\n",
       "      <th>model_error</th>\n",
       "      <th>error_delta</th>\n",
       "    </tr>\n",
       "  </thead>\n",
       "  <tbody>\n",
       "    <tr>\n",
       "      <th>0</th>\n",
       "      <td>SSE</td>\n",
       "      <td>2.018489e+16</td>\n",
       "      <td>-2.129999e+15</td>\n",
       "    </tr>\n",
       "    <tr>\n",
       "      <th>1</th>\n",
       "      <td>MSE</td>\n",
       "      <td>2.020048e+10</td>\n",
       "      <td>-2.131644e+09</td>\n",
       "    </tr>\n",
       "    <tr>\n",
       "      <th>2</th>\n",
       "      <td>RMSE</td>\n",
       "      <td>1.421284e+05</td>\n",
       "      <td>-7.310974e+03</td>\n",
       "    </tr>\n",
       "  </tbody>\n",
       "</table>\n",
       "</div>"
      ],
      "text/plain": [
       "  metric   model_error   error_delta\n",
       "0    SSE  2.018489e+16 -2.129999e+15\n",
       "1    MSE  2.020048e+10 -2.131644e+09\n",
       "2   RMSE  1.421284e+05 -7.310974e+03"
      ]
     },
     "execution_count": 351,
     "metadata": {},
     "output_type": "execute_result"
    }
   ],
   "source": [
    "# add a column to train_eval for the error delta for each metric\n",
    "train_eval['error_delta'] = train_eval.model_error - train_baseline_eval.model_error\n",
    "train_eval"
   ]
  },
  {
   "cell_type": "code",
   "execution_count": 108,
   "id": "08cbc270",
   "metadata": {},
   "outputs": [
    {
     "data": {
      "text/plain": [
       "<matplotlib.collections.PathCollection at 0x457628250>"
      ]
     },
     "execution_count": 108,
     "metadata": {},
     "output_type": "execute_result"
    },
    {
     "data": {
      "image/png": "[encoded data removed]",
      "text/plain": [
       "<Figure size 432x288 with 1 Axes>"
      ]
     },
     "metadata": {
      "needs_background": "light"
     },
     "output_type": "display_data"
    }
   ],
   "source": [
    "# create a scatterplot of sqft and tax_value\n",
    "plt.scatter(train.sqft, y=train.tax_value)\n",
    "# draw the regression line for the model predictions\n",
    "plt.plot(train.sqft, train.yhat, color='red')\n",
    "# create a scatterplot of the baseline residual error\n",
    "plt.scatter(train.sqft, train.residual_baseline, color='purple')\n",
    "# create a scatterplot of the model residual error\n",
    "plt.scatter(train.sqft, train.residual, color='pink')"
   ]
  },
  {
   "cell_type": "code",
   "execution_count": 352,
   "id": "7ec61984",
   "metadata": {},
   "outputs": [
    {
     "data": {
      "text/plain": [
       "0.09545191652772544"
      ]
     },
     "execution_count": 352,
     "metadata": {},
     "output_type": "execute_result"
    }
   ],
   "source": [
    "# calculate the r2 score for the model using sklearn\n",
    "r2_score(train.tax_value, train.yhat)"
   ]
  },
  {
   "cell_type": "code",
   "execution_count": 353,
   "id": "a3a16371",
   "metadata": {},
   "outputs": [],
   "source": [
    "# assign values for TSS and ESS in order to manually calculate the r2\n",
    "TSS = SSE_baseline\n",
    "ESS = TSS - SSE"
   ]
  },
  {
   "cell_type": "code",
   "execution_count": 354,
   "id": "2a99cae9",
   "metadata": {},
   "outputs": [
    {
     "data": {
      "text/plain": [
       "0.09545191652772547"
      ]
     },
     "execution_count": 354,
     "metadata": {},
     "output_type": "execute_result"
    }
   ],
   "source": [
    "# manually calculate the r2\n",
    "R2 = ESS/TSS\n",
    "R2"
   ]
  },
  {
   "cell_type": "markdown",
   "id": "d9b79ee5",
   "metadata": {},
   "source": [
    "#### Use variables to use in place of columns for multiple feature selection and to use in functions later"
   ]
  },
  {
   "cell_type": "code",
   "execution_count": 355,
   "id": "7a6a5664",
   "metadata": {},
   "outputs": [],
   "source": [
    "y = train.tax_value\n",
    "cols = ['tax_amount']"
   ]
  },
  {
   "cell_type": "code",
   "execution_count": 356,
   "id": "797261f9",
   "metadata": {},
   "outputs": [],
   "source": [
    "# make and fit the linear regression model using the selected features and target variable\n",
    "ols_model = LinearRegression().fit(train[cols], y)"
   ]
  },
  {
   "cell_type": "code",
   "execution_count": 357,
   "id": "d6b67113",
   "metadata": {},
   "outputs": [],
   "source": [
    "# create a new column in train for the model predictions (yhat)\n",
    "train['yhat'] = ols_model.predict(train[cols])"
   ]
  },
  {
   "cell_type": "code",
   "execution_count": 358,
   "id": "ca9c8760",
   "metadata": {},
   "outputs": [],
   "source": [
    "# assign the target column of the train dataset to y\n",
    "y = train.tax_value\n",
    "# assign the model predictions column to yhat\n",
    "yhat = train.yhat\n",
    "# assign the baseline prediction to baseline\n",
    "baseline = train.baseline"
   ]
  },
  {
   "cell_type": "code",
   "execution_count": 359,
   "id": "3d091bd5",
   "metadata": {},
   "outputs": [],
   "source": [
    "# create a new column in train for the model residual values\n",
    "train['residual'] = yhat - y\n",
    "# create a new column in train for the baseline residual values\n",
    "train['residual_baseline'] = baseline - y"
   ]
  },
  {
   "cell_type": "code",
   "execution_count": 360,
   "id": "9f633171",
   "metadata": {},
   "outputs": [],
   "source": [
    "# calculate the model's sum of squares error for the selected variables against the target variable\n",
    "SSE = mean_squared_error(y, yhat)*len(y)\n",
    "# calculate the baseline's sum of squares error for the selected variables against the target variable\n",
    "SSE_baseline = mean_squared_error(y, baseline)*len(y)\n",
    "# calculate the model mean squared error for the selected variables against the target variable\n",
    "MSE = mean_squared_error(y, yhat)\n",
    "# calculate the baseline mean squared error for the selected variables against the target variable\n",
    "MSE_baseline = mean_squared_error(y, baseline)\n",
    "# calculate the model root mean squared error for the selected variables against the target variable\n",
    "RMSE = sqrt(mean_squared_error(y, yhat))\n",
    "# calculate the baseline root mean squared error for the selected variables against the target variable\n",
    "RMSE_baseline = sqrt(mean_squared_error(y, baseline))"
   ]
  },
  {
   "cell_type": "code",
   "execution_count": 361,
   "id": "515babda",
   "metadata": {},
   "outputs": [
    {
     "name": "stdout",
     "output_type": "stream",
     "text": [
      "  metric   model_error\n",
      "0    SSE  1.700157e+15\n",
      "1    MSE  1.701471e+09\n",
      "2   RMSE  4.124889e+04\n",
      "          metric   model_error\n",
      "0   SSE_baseline  2.231489e+16\n",
      "1   MSE_baseline  2.233213e+10\n",
      "2  RMSE_baseline  1.494394e+05\n"
     ]
    }
   ],
   "source": [
    "# create a dataframe for the model SSE, MSE, RMSE\n",
    "train_eval = pd.DataFrame(np.array(['SSE','MSE','RMSE']), columns=['metric'])\n",
    "# create a dataframe to show the baseline SSE, MSE, RMSE\n",
    "train_baseline_eval = pd.DataFrame(np.array(['SSE_baseline','MSE_baseline','RMSE_baseline']), columns=['metric'])\n",
    "# add a column to the train_eval dataframe for the values associated with each model metric\n",
    "train_eval['model_error'] = np.array([SSE, MSE, RMSE])\n",
    "# add a column to the train_baseline_eval for the values associated with each baseline metric\n",
    "train_baseline_eval['model_error'] = np.array([SSE_baseline, MSE_baseline, RMSE_baseline])\n",
    "# print the dataframes\n",
    "print(train_eval)\n",
    "print(train_baseline_eval)"
   ]
  },
  {
   "cell_type": "code",
   "execution_count": 364,
   "id": "0bab9faf",
   "metadata": {},
   "outputs": [
    {
     "data": {
      "text/html": [
       "<div>\n",
       "<style scoped>\n",
       "    .dataframe tbody tr th:only-of-type {\n",
       "        vertical-align: middle;\n",
       "    }\n",
       "\n",
       "    .dataframe tbody tr th {\n",
       "        vertical-align: top;\n",
       "    }\n",
       "\n",
       "    .dataframe thead th {\n",
       "        text-align: right;\n",
       "    }\n",
       "</style>\n",
       "<table border=\"1\" class=\"dataframe\">\n",
       "  <thead>\n",
       "    <tr style=\"text-align: right;\">\n",
       "      <th></th>\n",
       "      <th>metric</th>\n",
       "      <th>model_error</th>\n",
       "      <th>error_delta</th>\n",
       "    </tr>\n",
       "  </thead>\n",
       "  <tbody>\n",
       "    <tr>\n",
       "      <th>0</th>\n",
       "      <td>SSE</td>\n",
       "      <td>1.700157e+15</td>\n",
       "      <td>-2.061473e+16</td>\n",
       "    </tr>\n",
       "    <tr>\n",
       "      <th>1</th>\n",
       "      <td>MSE</td>\n",
       "      <td>1.701471e+09</td>\n",
       "      <td>-2.063066e+10</td>\n",
       "    </tr>\n",
       "    <tr>\n",
       "      <th>2</th>\n",
       "      <td>RMSE</td>\n",
       "      <td>4.124889e+04</td>\n",
       "      <td>-1.081905e+05</td>\n",
       "    </tr>\n",
       "  </tbody>\n",
       "</table>\n",
       "</div>"
      ],
      "text/plain": [
       "  metric   model_error   error_delta\n",
       "0    SSE  1.700157e+15 -2.061473e+16\n",
       "1    MSE  1.701471e+09 -2.063066e+10\n",
       "2   RMSE  4.124889e+04 -1.081905e+05"
      ]
     },
     "execution_count": 364,
     "metadata": {},
     "output_type": "execute_result"
    }
   ],
   "source": [
    "# create a new column in train_eval that contains the error delta for the model\n",
    "train_eval['error_delta'] = train_eval.model_error - train_baseline_eval.model_error\n",
    "train_eval"
   ]
  },
  {
   "cell_type": "code",
   "execution_count": 363,
   "id": "9ba93039",
   "metadata": {},
   "outputs": [
    {
     "data": {
      "text/plain": [
       "0.9238106253203444"
      ]
     },
     "execution_count": 363,
     "metadata": {},
     "output_type": "execute_result"
    }
   ],
   "source": [
    "# calculate the r2 score for the model using sklearn\n",
    "r2_score(y, yhat)"
   ]
  },
  {
   "cell_type": "code",
   "execution_count": 374,
   "id": "d1378b2d",
   "metadata": {},
   "outputs": [
    {
     "data": {
      "text/plain": [
       "<AxesSubplot:xlabel='tax_amount', ylabel='residual'>"
      ]
     },
     "execution_count": 374,
     "metadata": {},
     "output_type": "execute_result"
    },
    {
     "data": {
      "image/png": "[encoded data removed]",
      "text/plain": [
       "<Figure size 432x288 with 1 Axes>"
      ]
     },
     "metadata": {
      "needs_background": "light"
     },
     "output_type": "display_data"
    }
   ],
   "source": [
    "sns.regplot(x=train.tax_amount, y=train.residual_baseline)\n",
    "sns.regplot(x=train.tax_amount, y='residual', data=train, color='yellow')"
   ]
  },
  {
   "cell_type": "code",
   "execution_count": null,
   "id": "d7c824c1",
   "metadata": {},
   "outputs": [],
   "source": []
  },
  {
   "cell_type": "markdown",
   "id": "a3a46dee",
   "metadata": {},
   "source": [
    "#### Create functions for printing regression errors, baseline mean errors, and better than baseline evaluation"
   ]
  },
  {
   "cell_type": "code",
   "execution_count": 367,
   "id": "656c457c",
   "metadata": {},
   "outputs": [],
   "source": [
    "def regression_errors(y, yhat):\n",
    "    '''This function takes in two arguments, a previously assigned target variable (y) and the model predictions \n",
    "    (yhat). The function calculates the sum of squares error, explained sum of squares, total sum of squares,\n",
    "    mean squared error, and root mean squared error. It prints strings for each value to the first decimal.'''\n",
    "    SSE = mean_squared_error(y, train.yhat)*len(y)\n",
    "    ESS = sum((yhat - y.mean())**2)\n",
    "    TSS = ESS + SSE\n",
    "    MSE = mean_squared_error(y, train.yhat)\n",
    "    RMSE = sqrt(mean_squared_error(y, train.yhat))\n",
    "    print(f'Model SSE is: {\"{:.1f}\".format(SSE)}')\n",
    "    print(f'Model ESS is: {\"{:.1f}\".format(ESS)}')\n",
    "    print(f'Model TSS is: {\"{:.1f}\".format(TSS)}')\n",
    "    print(f'Model MSE is: {\"{:.1f}\".format(MSE)}')\n",
    "    print(f'Model RMSE is: {\"{:.1f}\".format(RMSE)}')"
   ]
  },
  {
   "cell_type": "code",
   "execution_count": 368,
   "id": "a6b51643",
   "metadata": {},
   "outputs": [
    {
     "name": "stdout",
     "output_type": "stream",
     "text": [
      "Model SSE is: 1700157291353692.0\n",
      "Model ESS is: 20614729771339368.0\n",
      "Model TSS is: 22314887062693060.0\n",
      "Model MSE is: 1701470826.8\n",
      "Model RMSE is: 41248.9\n"
     ]
    }
   ],
   "source": [
    "regression_errors(y, yhat)"
   ]
  },
  {
   "cell_type": "code",
   "execution_count": 216,
   "id": "f7797fde",
   "metadata": {},
   "outputs": [],
   "source": [
    "def baseline_mean_errors(y):\n",
    "    SSE_baseline = mean_squared_error(y, baseline)*len(y)\n",
    "    MSE_baseline = mean_squared_error(y, baseline)\n",
    "    RMSE_baseline = sqrt(mean_squared_error(y, baseline))\n",
    "    print(f'SSE baseline: {\"{:.1f}\".format(SSE_baseline)}')\n",
    "    print(f'MSE baseline: {\"{:.1f}\".format(MSE_baseline)}')\n",
    "    print(f'RMSE baseline: {\"{:.1f}\".format(RMSE_baseline)}')"
   ]
  },
  {
   "cell_type": "code",
   "execution_count": 217,
   "id": "50b79e5e",
   "metadata": {},
   "outputs": [
    {
     "name": "stdout",
     "output_type": "stream",
     "text": [
      "SSE baseline: 22314887062692692.0\n",
      "MSE baseline: 22332127465.1\n",
      "RMSE baseline: 149439.4\n"
     ]
    }
   ],
   "source": [
    "baseline_mean_errors(y)"
   ]
  },
  {
   "cell_type": "code",
   "execution_count": 218,
   "id": "fd4b7c23",
   "metadata": {},
   "outputs": [],
   "source": [
    "def better_than_baseline(y, yhat):\n",
    "    SSE = mean_squared_error(y, train.yhat)*len(y)\n",
    "    SSE_baseline = mean_squared_error(y, baseline)*len(y)\n",
    "    MSE = mean_squared_error(y, train.yhat)\n",
    "    MSE_baseline = mean_squared_error(y, baseline)\n",
    "    RMSE = sqrt(mean_squared_error(y, train.yhat))\n",
    "    RMSE_baseline = sqrt(mean_squared_error(y, baseline))\n",
    "    \n",
    "    print(f'Model SSE is better than SSE baseline: {SSE < SSE_baseline}')\n",
    "    print(f'Model MSE is better than MSE baseline: {MSE < MSE_baseline}')\n",
    "    print(f'Model RMSE is better than RMSE baseline: {RMSE < RMSE_baseline}')"
   ]
  },
  {
   "cell_type": "code",
   "execution_count": 219,
   "id": "326bc7cc",
   "metadata": {},
   "outputs": [
    {
     "name": "stdout",
     "output_type": "stream",
     "text": [
      "Model SSE is better than SSE baseline: True\n",
      "Model MSE is better than MSE baseline: True\n",
      "Model RMSE is better than RMSE baseline: True\n"
     ]
    }
   ],
   "source": [
    "better_than_baseline(y, yhat)"
   ]
  },
  {
   "cell_type": "markdown",
   "id": "243aab48",
   "metadata": {},
   "source": [
    "#### Select new features and scale prior to creating the model"
   ]
  },
  {
   "cell_type": "code",
   "execution_count": 252,
   "id": "86065405",
   "metadata": {},
   "outputs": [],
   "source": [
    "cols = ['tax_amount', 'bathrooms', 'year']\n",
    "X_train = train[cols]\n",
    "X_validate = validate[cols]\n",
    "X_test = test[cols]\n",
    "y = train.tax_value"
   ]
  },
  {
   "cell_type": "code",
   "execution_count": 253,
   "id": "9b7ec4f3",
   "metadata": {},
   "outputs": [],
   "source": [
    "def standard_scaler():\n",
    "    '''This function applies the .StandardScaler method from sklearn to previously assigned\n",
    "    X_train, X_validate, and X_test variables and returns the scaled versions of each variable.'''\n",
    "    # make the scaler\n",
    "    scaler = StandardScaler()\n",
    "    # fit and transform the X_train data\n",
    "    X_train_standard = pd.DataFrame(scaler.fit_transform(X_train))\n",
    "    # transform the X_validate data\n",
    "    X_validate_standard = pd.DataFrame(scaler.transform(X_validate))\n",
    "    # transform the X_test data\n",
    "    X_test_standard = pd.DataFrame(scaler.transform(X_test))\n",
    "    # return the scaled data for each renamed variable\n",
    "    return X_train_standard, X_validate_standard, X_test_standard"
   ]
  },
  {
   "cell_type": "code",
   "execution_count": 254,
   "id": "00c8dc33",
   "metadata": {},
   "outputs": [],
   "source": [
    "X_train_standard, X_validate_standard, X_test_standard = standard_scaler()"
   ]
  },
  {
   "cell_type": "code",
   "execution_count": 255,
   "id": "cf29cb4f",
   "metadata": {},
   "outputs": [],
   "source": [
    "ols_model = LinearRegression().fit(X_train_standard, train.tax_value)"
   ]
  },
  {
   "cell_type": "code",
   "execution_count": 256,
   "id": "35fdcf05",
   "metadata": {},
   "outputs": [],
   "source": [
    "train['yhat'] = ols_model.predict(X_train_standard)"
   ]
  },
  {
   "cell_type": "code",
   "execution_count": 257,
   "id": "b1bde8ef",
   "metadata": {},
   "outputs": [],
   "source": [
    "yhat = train.yhat"
   ]
  },
  {
   "cell_type": "code",
   "execution_count": 258,
   "id": "13e95297",
   "metadata": {},
   "outputs": [],
   "source": [
    "train['residual'] = train.yhat - y\n",
    "train['residual_baseline'] = train.baseline - y"
   ]
  },
  {
   "cell_type": "code",
   "execution_count": 259,
   "id": "574baced",
   "metadata": {},
   "outputs": [
    {
     "name": "stdout",
     "output_type": "stream",
     "text": [
      "Model SSE is: 1697678401934155.5\n",
      "Model ESS is: 20617208660759688.0\n",
      "Model TSS is: 22314887062693844.0\n",
      "Model MSE is: 1698990022.2\n",
      "Model RMSE is: 41218.8\n"
     ]
    }
   ],
   "source": [
    "regression_errors(y, yhat)"
   ]
  },
  {
   "cell_type": "code",
   "execution_count": 260,
   "id": "05e3d0f3",
   "metadata": {},
   "outputs": [
    {
     "name": "stdout",
     "output_type": "stream",
     "text": [
      "SSE baseline: 22314887062692692.0\n",
      "MSE baseline: 22332127465.1\n",
      "RMSE baseline: 149439.4\n"
     ]
    }
   ],
   "source": [
    "baseline_mean_errors(y)"
   ]
  },
  {
   "cell_type": "code",
   "execution_count": 261,
   "id": "f4279bd9",
   "metadata": {},
   "outputs": [
    {
     "name": "stdout",
     "output_type": "stream",
     "text": [
      "Model SSE is better than SSE baseline: True\n",
      "Model MSE is better than MSE baseline: True\n",
      "Model RMSE is better than RMSE baseline: True\n"
     ]
    }
   ],
   "source": [
    "better_than_baseline(y, yhat)"
   ]
  },
  {
   "cell_type": "code",
   "execution_count": 262,
   "id": "787e8ae2",
   "metadata": {},
   "outputs": [
    {
     "data": {
      "text/plain": [
       "0.9239217121213922"
      ]
     },
     "execution_count": 262,
     "metadata": {},
     "output_type": "execute_result"
    }
   ],
   "source": [
    "r2_score(y, yhat)"
   ]
  },
  {
   "cell_type": "code",
   "execution_count": 296,
   "id": "7bb56aba",
   "metadata": {},
   "outputs": [],
   "source": [
    "cols = ['bedrooms', 'bathrooms', 'sqft', 'year', 'fips']\n",
    "X_train = train[cols]\n",
    "X_validate = validate[cols]\n",
    "X_test = test[cols]"
   ]
  },
  {
   "cell_type": "code",
   "execution_count": 297,
   "id": "7ccab5e5",
   "metadata": {},
   "outputs": [],
   "source": [
    "def minmax_scaler():\n",
    "    '''This function applies the .MinMaxScaler method from sklearn to previously assigned\n",
    "    X_train, X_validate, and X_test variables and returns the scaled versions of each variable.'''\n",
    "    # make the scaler\n",
    "    scaler = MinMaxScaler()\n",
    "    # fit and transform the X_train data\n",
    "    X_train_minmax = pd.DataFrame(scaler.fit_transform(X_train))\n",
    "    # transform the X_validate data\n",
    "    X_validate_minmax = pd.DataFrame(scaler.transform(X_validate))\n",
    "    # transform the X_test data\n",
    "    X_test_minmax = pd.DataFrame(scaler.transform(X_test))\n",
    "    # return the scaled data for each renamed variable\n",
    "    return X_train_minmax, X_validate_minmax, X_test_minmax\n"
   ]
  },
  {
   "cell_type": "code",
   "execution_count": 298,
   "id": "5715b68a",
   "metadata": {},
   "outputs": [],
   "source": [
    "X_train_scaled, X_validate_scaled, X_test_scaled = minmax_scaler()"
   ]
  },
  {
   "cell_type": "code",
   "execution_count": 299,
   "id": "be4ee4b9",
   "metadata": {},
   "outputs": [],
   "source": [
    "ols_model = LinearRegression().fit(X_train_scaled, train.tax_value)"
   ]
  },
  {
   "cell_type": "code",
   "execution_count": 300,
   "id": "81329a08",
   "metadata": {},
   "outputs": [],
   "source": [
    "train['yhat'] = ols_model.predict(X_train_scaled)"
   ]
  },
  {
   "cell_type": "code",
   "execution_count": 301,
   "id": "3cc15096",
   "metadata": {},
   "outputs": [],
   "source": [
    "y = train.tax_value\n",
    "yhat = train.yhat"
   ]
  },
  {
   "cell_type": "code",
   "execution_count": 302,
   "id": "9ccfc7dd",
   "metadata": {},
   "outputs": [],
   "source": [
    "train['residual'] = train.yhat - train.tax_value\n",
    "train['residual_baseline'] = train.baseline - train.tax_value"
   ]
  },
  {
   "cell_type": "code",
   "execution_count": 303,
   "id": "9ebf9b87",
   "metadata": {},
   "outputs": [
    {
     "name": "stdout",
     "output_type": "stream",
     "text": [
      "Model SSE is: 19775651854185128.0\n",
      "Model ESS is: 2539235208495694.0\n",
      "Model TSS is: 22314887062680824.0\n",
      "Model MSE is: 19790930452.5\n",
      "Model RMSE is: 140680.2\n"
     ]
    }
   ],
   "source": [
    "regression_errors(y, yhat)"
   ]
  },
  {
   "cell_type": "code",
   "execution_count": 304,
   "id": "16ad45d9",
   "metadata": {},
   "outputs": [
    {
     "name": "stdout",
     "output_type": "stream",
     "text": [
      "SSE baseline: 22314887062692692.0\n",
      "MSE baseline: 22332127465.1\n",
      "RMSE baseline: 149439.4\n"
     ]
    }
   ],
   "source": [
    "baseline_mean_errors(y)"
   ]
  },
  {
   "cell_type": "code",
   "execution_count": 305,
   "id": "6bd39f0d",
   "metadata": {},
   "outputs": [
    {
     "name": "stdout",
     "output_type": "stream",
     "text": [
      "Model SSE is better than SSE baseline: True\n",
      "Model MSE is better than MSE baseline: True\n",
      "Model RMSE is better than RMSE baseline: True\n"
     ]
    }
   ],
   "source": [
    "better_than_baseline(y, yhat)"
   ]
  },
  {
   "cell_type": "code",
   "execution_count": 306,
   "id": "46f79ea8",
   "metadata": {},
   "outputs": [
    {
     "data": {
      "text/plain": [
       "0.1137910849099838"
      ]
     },
     "execution_count": 306,
     "metadata": {},
     "output_type": "execute_result"
    }
   ],
   "source": [
    "r2_score(y, yhat)"
   ]
  },
  {
   "cell_type": "code",
   "execution_count": null,
   "id": "dda72005",
   "metadata": {},
   "outputs": [],
   "source": []
  }
 ],
 "metadata": {
  "kernelspec": {
   "display_name": "Python 3 (ipykernel)",
   "language": "python",
   "name": "python3"
  },
  "language_info": {
   "codemirror_mode": {
    "name": "ipython",
    "version": 3
   },
   "file_extension": ".py",
   "mimetype": "text/x-python",
   "name": "python",
   "nbconvert_exporter": "python",
   "pygments_lexer": "ipython3",
   "version": "3.9.12"
  }
 },
 "nbformat": 4,
 "nbformat_minor": 5
}
